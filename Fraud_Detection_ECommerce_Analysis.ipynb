{
 "cells": [
  {
   "cell_type": "markdown",
   "id": "03382377-02a7-4e14-9e9f-2dac81b68415",
   "metadata": {},
   "source": [
    "### 1. Import Libraries"
   ]
  },
  {
   "cell_type": "code",
   "execution_count": 1,
   "id": "aa29eef2-f41a-4562-b259-b02a8bae3918",
   "metadata": {},
   "outputs": [],
   "source": [
    "import pandas as pd \n",
    "import matplotlib.pyplot as plt \n",
    "import seaborn as sns \n",
    "import sklearn "
   ]
  },
  {
   "cell_type": "markdown",
   "id": "e293d831-a1e6-4c88-a3a7-b7fedd96393a",
   "metadata": {},
   "source": [
    "### 2. Load and Explore Data"
   ]
  },
  {
   "cell_type": "code",
   "execution_count": 2,
   "id": "765ff577-8fc6-4568-8204-582940f34590",
   "metadata": {},
   "outputs": [],
   "source": [
    "df = pd.read_csv(\"Fraudulent_E-Commerce_Transaction_Data.csv\")"
   ]
  },
  {
   "cell_type": "markdown",
   "id": "7789d231-3099-48e4-8ead-2892ed0fde8f",
   "metadata": {},
   "source": [
    "### 3. Data Cleaning"
   ]
  },
  {
   "cell_type": "code",
   "execution_count": 3,
   "id": "d92f6351-c115-40e5-8f06-075ceec64e9b",
   "metadata": {},
   "outputs": [
    {
     "data": {
      "text/plain": [
       "(1048575, 16)"
      ]
     },
     "execution_count": 3,
     "metadata": {},
     "output_type": "execute_result"
    }
   ],
   "source": [
    "df.shape"
   ]
  },
  {
   "cell_type": "code",
   "execution_count": 4,
   "id": "cfa09347-e172-4f7b-af1b-ce81ce26c710",
   "metadata": {},
   "outputs": [
    {
     "data": {
      "text/plain": [
       "Index(['Transaction ID', 'Customer ID', 'Transaction Amount',\n",
       "       'Transaction Date', 'Payment Method', 'Product Category', 'Quantity',\n",
       "       'Customer Age', 'Customer Location', 'Device Used', 'IP Address',\n",
       "       'Shipping Address', 'Billing Address', 'Is Fraudulent',\n",
       "       'Account Age Days', 'Transaction Hour'],\n",
       "      dtype='object')"
      ]
     },
     "execution_count": 4,
     "metadata": {},
     "output_type": "execute_result"
    }
   ],
   "source": [
    "df.columns"
   ]
  },
  {
   "cell_type": "code",
   "execution_count": 5,
   "id": "f6fefc32-3a42-4323-883d-42f2f4a5a5a0",
   "metadata": {},
   "outputs": [
    {
     "data": {
      "text/html": [
       "<div>\n",
       "<style scoped>\n",
       "    .dataframe tbody tr th:only-of-type {\n",
       "        vertical-align: middle;\n",
       "    }\n",
       "\n",
       "    .dataframe tbody tr th {\n",
       "        vertical-align: top;\n",
       "    }\n",
       "\n",
       "    .dataframe thead th {\n",
       "        text-align: right;\n",
       "    }\n",
       "</style>\n",
       "<table border=\"1\" class=\"dataframe\">\n",
       "  <thead>\n",
       "    <tr style=\"text-align: right;\">\n",
       "      <th></th>\n",
       "      <th>Transaction ID</th>\n",
       "      <th>Customer ID</th>\n",
       "      <th>Transaction Amount</th>\n",
       "      <th>Transaction Date</th>\n",
       "      <th>Payment Method</th>\n",
       "      <th>Product Category</th>\n",
       "      <th>Quantity</th>\n",
       "      <th>Customer Age</th>\n",
       "      <th>Customer Location</th>\n",
       "      <th>Device Used</th>\n",
       "      <th>IP Address</th>\n",
       "      <th>Shipping Address</th>\n",
       "      <th>Billing Address</th>\n",
       "      <th>Is Fraudulent</th>\n",
       "      <th>Account Age Days</th>\n",
       "      <th>Transaction Hour</th>\n",
       "    </tr>\n",
       "  </thead>\n",
       "  <tbody>\n",
       "    <tr>\n",
       "      <th>0</th>\n",
       "      <td>15d2e414-8735-46fc-9e02-80b472b2580f</td>\n",
       "      <td>d1b87f62-51b2-493b-ad6a-77e0fe13e785</td>\n",
       "      <td>58.09</td>\n",
       "      <td>2/20/2024 5:58</td>\n",
       "      <td>bank transfer</td>\n",
       "      <td>electronics</td>\n",
       "      <td>1</td>\n",
       "      <td>17</td>\n",
       "      <td>Amandaborough</td>\n",
       "      <td>tablet</td>\n",
       "      <td>212.195.49.198</td>\n",
       "      <td>Unit 8934 Box 0058\\nDPO AA 05437</td>\n",
       "      <td>Unit 8934 Box 0058\\nDPO AA 05437</td>\n",
       "      <td>0</td>\n",
       "      <td>30</td>\n",
       "      <td>5</td>\n",
       "    </tr>\n",
       "    <tr>\n",
       "      <th>1</th>\n",
       "      <td>0bfee1a0-6d5e-40da-a446-d04e73b1b177</td>\n",
       "      <td>37de64d5-e901-4a56-9ea0-af0c24c069cf</td>\n",
       "      <td>389.96</td>\n",
       "      <td>2/25/2024 8:09</td>\n",
       "      <td>debit card</td>\n",
       "      <td>electronics</td>\n",
       "      <td>2</td>\n",
       "      <td>40</td>\n",
       "      <td>East Timothy</td>\n",
       "      <td>desktop</td>\n",
       "      <td>208.106.249.121</td>\n",
       "      <td>634 May Keys\\nPort Cherylview, NV 75063</td>\n",
       "      <td>634 May Keys\\nPort Cherylview, NV 75063</td>\n",
       "      <td>0</td>\n",
       "      <td>72</td>\n",
       "      <td>8</td>\n",
       "    </tr>\n",
       "    <tr>\n",
       "      <th>2</th>\n",
       "      <td>e588eef4-b754-468e-9d90-d0e0abfc1af0</td>\n",
       "      <td>1bac88d6-4b22-409a-a06b-425119c57225</td>\n",
       "      <td>134.19</td>\n",
       "      <td>3/18/2024 3:42</td>\n",
       "      <td>PayPal</td>\n",
       "      <td>home &amp; garden</td>\n",
       "      <td>2</td>\n",
       "      <td>22</td>\n",
       "      <td>Davismouth</td>\n",
       "      <td>tablet</td>\n",
       "      <td>76.63.88.212</td>\n",
       "      <td>16282 Dana Falls Suite 790\\nRothhaven, IL 15564</td>\n",
       "      <td>16282 Dana Falls Suite 790\\nRothhaven, IL 15564</td>\n",
       "      <td>0</td>\n",
       "      <td>63</td>\n",
       "      <td>3</td>\n",
       "    </tr>\n",
       "    <tr>\n",
       "      <th>3</th>\n",
       "      <td>4de46e52-60c3-49d9-be39-636681009789</td>\n",
       "      <td>2357c76e-9253-4ceb-b44e-ef4b71cb7d4d</td>\n",
       "      <td>226.17</td>\n",
       "      <td>3/16/2024 20:41</td>\n",
       "      <td>bank transfer</td>\n",
       "      <td>clothing</td>\n",
       "      <td>5</td>\n",
       "      <td>31</td>\n",
       "      <td>Lynnberg</td>\n",
       "      <td>desktop</td>\n",
       "      <td>207.208.171.73</td>\n",
       "      <td>828 Strong Loaf Apt. 646\\nNew Joshua, UT 84798</td>\n",
       "      <td>828 Strong Loaf Apt. 646\\nNew Joshua, UT 84798</td>\n",
       "      <td>0</td>\n",
       "      <td>124</td>\n",
       "      <td>20</td>\n",
       "    </tr>\n",
       "    <tr>\n",
       "      <th>4</th>\n",
       "      <td>074a76de-fe2d-443e-a00c-f044cdb68e21</td>\n",
       "      <td>45071bc5-9588-43ea-8093-023caec8ea1c</td>\n",
       "      <td>121.53</td>\n",
       "      <td>1/15/2024 5:08</td>\n",
       "      <td>bank transfer</td>\n",
       "      <td>clothing</td>\n",
       "      <td>2</td>\n",
       "      <td>51</td>\n",
       "      <td>South Nicole</td>\n",
       "      <td>tablet</td>\n",
       "      <td>190.172.14.169</td>\n",
       "      <td>29799 Jason Hills Apt. 439\\nWest Richardtown, ...</td>\n",
       "      <td>29799 Jason Hills Apt. 439\\nWest Richardtown, ...</td>\n",
       "      <td>0</td>\n",
       "      <td>158</td>\n",
       "      <td>5</td>\n",
       "    </tr>\n",
       "  </tbody>\n",
       "</table>\n",
       "</div>"
      ],
      "text/plain": [
       "                         Transaction ID                           Customer ID  \\\n",
       "0  15d2e414-8735-46fc-9e02-80b472b2580f  d1b87f62-51b2-493b-ad6a-77e0fe13e785   \n",
       "1  0bfee1a0-6d5e-40da-a446-d04e73b1b177  37de64d5-e901-4a56-9ea0-af0c24c069cf   \n",
       "2  e588eef4-b754-468e-9d90-d0e0abfc1af0  1bac88d6-4b22-409a-a06b-425119c57225   \n",
       "3  4de46e52-60c3-49d9-be39-636681009789  2357c76e-9253-4ceb-b44e-ef4b71cb7d4d   \n",
       "4  074a76de-fe2d-443e-a00c-f044cdb68e21  45071bc5-9588-43ea-8093-023caec8ea1c   \n",
       "\n",
       "   Transaction Amount Transaction Date Payment Method Product Category  \\\n",
       "0               58.09   2/20/2024 5:58  bank transfer      electronics   \n",
       "1              389.96   2/25/2024 8:09     debit card      electronics   \n",
       "2              134.19   3/18/2024 3:42         PayPal    home & garden   \n",
       "3              226.17  3/16/2024 20:41  bank transfer         clothing   \n",
       "4              121.53   1/15/2024 5:08  bank transfer         clothing   \n",
       "\n",
       "   Quantity  Customer Age Customer Location Device Used       IP Address  \\\n",
       "0         1            17     Amandaborough      tablet   212.195.49.198   \n",
       "1         2            40      East Timothy     desktop  208.106.249.121   \n",
       "2         2            22        Davismouth      tablet     76.63.88.212   \n",
       "3         5            31          Lynnberg     desktop   207.208.171.73   \n",
       "4         2            51      South Nicole      tablet   190.172.14.169   \n",
       "\n",
       "                                    Shipping Address  \\\n",
       "0                   Unit 8934 Box 0058\\nDPO AA 05437   \n",
       "1            634 May Keys\\nPort Cherylview, NV 75063   \n",
       "2    16282 Dana Falls Suite 790\\nRothhaven, IL 15564   \n",
       "3     828 Strong Loaf Apt. 646\\nNew Joshua, UT 84798   \n",
       "4  29799 Jason Hills Apt. 439\\nWest Richardtown, ...   \n",
       "\n",
       "                                     Billing Address  Is Fraudulent  \\\n",
       "0                   Unit 8934 Box 0058\\nDPO AA 05437              0   \n",
       "1            634 May Keys\\nPort Cherylview, NV 75063              0   \n",
       "2    16282 Dana Falls Suite 790\\nRothhaven, IL 15564              0   \n",
       "3     828 Strong Loaf Apt. 646\\nNew Joshua, UT 84798              0   \n",
       "4  29799 Jason Hills Apt. 439\\nWest Richardtown, ...              0   \n",
       "\n",
       "   Account Age Days  Transaction Hour  \n",
       "0                30                 5  \n",
       "1                72                 8  \n",
       "2                63                 3  \n",
       "3               124                20  \n",
       "4               158                 5  "
      ]
     },
     "execution_count": 5,
     "metadata": {},
     "output_type": "execute_result"
    }
   ],
   "source": [
    "df.head()"
   ]
  },
  {
   "cell_type": "code",
   "execution_count": 6,
   "id": "7bde16e8-ae55-4315-afba-57431a0dcac3",
   "metadata": {},
   "outputs": [
    {
     "name": "stdout",
     "output_type": "stream",
     "text": [
      "<class 'pandas.core.frame.DataFrame'>\n",
      "RangeIndex: 1048575 entries, 0 to 1048574\n",
      "Data columns (total 16 columns):\n",
      " #   Column              Non-Null Count    Dtype  \n",
      "---  ------              --------------    -----  \n",
      " 0   Transaction ID      1048575 non-null  object \n",
      " 1   Customer ID         1048575 non-null  object \n",
      " 2   Transaction Amount  1048575 non-null  float64\n",
      " 3   Transaction Date    1048575 non-null  object \n",
      " 4   Payment Method      1048575 non-null  object \n",
      " 5   Product Category    1048575 non-null  object \n",
      " 6   Quantity            1048575 non-null  int64  \n",
      " 7   Customer Age        1048575 non-null  int64  \n",
      " 8   Customer Location   1048575 non-null  object \n",
      " 9   Device Used         1048575 non-null  object \n",
      " 10  IP Address          1048575 non-null  object \n",
      " 11  Shipping Address    1048575 non-null  object \n",
      " 12  Billing Address     1048575 non-null  object \n",
      " 13  Is Fraudulent       1048575 non-null  int64  \n",
      " 14  Account Age Days    1048575 non-null  int64  \n",
      " 15  Transaction Hour    1048575 non-null  int64  \n",
      "dtypes: float64(1), int64(5), object(10)\n",
      "memory usage: 128.0+ MB\n"
     ]
    }
   ],
   "source": [
    "df.info()"
   ]
  },
  {
   "cell_type": "code",
   "execution_count": 7,
   "id": "fe0a49dd-e564-435c-9691-0fee33a4963b",
   "metadata": {},
   "outputs": [
    {
     "data": {
      "text/plain": [
       "0"
      ]
     },
     "execution_count": 7,
     "metadata": {},
     "output_type": "execute_result"
    }
   ],
   "source": [
    "df.duplicated().sum()"
   ]
  },
  {
   "cell_type": "code",
   "execution_count": 8,
   "id": "141728c1-da53-46fe-82ea-f8f505b08907",
   "metadata": {},
   "outputs": [
    {
     "data": {
      "text/plain": [
       "Transaction ID        0\n",
       "Customer ID           0\n",
       "Transaction Amount    0\n",
       "Transaction Date      0\n",
       "Payment Method        0\n",
       "Product Category      0\n",
       "Quantity              0\n",
       "Customer Age          0\n",
       "Customer Location     0\n",
       "Device Used           0\n",
       "IP Address            0\n",
       "Shipping Address      0\n",
       "Billing Address       0\n",
       "Is Fraudulent         0\n",
       "Account Age Days      0\n",
       "Transaction Hour      0\n",
       "dtype: int64"
      ]
     },
     "execution_count": 8,
     "metadata": {},
     "output_type": "execute_result"
    }
   ],
   "source": [
    "df.isnull().sum()"
   ]
  },
  {
   "cell_type": "code",
   "execution_count": 9,
   "id": "bf35287b-7d89-447a-9ac1-4987babb0944",
   "metadata": {},
   "outputs": [],
   "source": [
    "df[\"Transaction Date\"] = pd.to_datetime(df[\"Transaction Date\"],errors ='coerce')"
   ]
  },
  {
   "cell_type": "markdown",
   "id": "fe218362-4444-4b56-b696-32ddb5fc15ef",
   "metadata": {},
   "source": [
    "### 4. Feature Engineering"
   ]
  },
  {
   "cell_type": "code",
   "execution_count": 10,
   "id": "8f4a191a-2a8a-4084-ae42-d2a1053f2116",
   "metadata": {},
   "outputs": [],
   "source": [
    "df['Transaction Month'] = df['Transaction Date'].dt.month\n",
    "df['Transaction Hour'] = df['Transaction Date'].dt.hour\n",
    "df['Transaction Day'] = df['Transaction Date'].dt.day\n",
    "df['Transaction Weekday'] = df['Transaction Date'].dt.weekday"
   ]
  },
  {
   "cell_type": "code",
   "execution_count": 11,
   "id": "5589bc5d-b1ac-48cb-8d5e-58411e619c3c",
   "metadata": {},
   "outputs": [
    {
     "name": "stdout",
     "output_type": "stream",
     "text": [
      "<class 'pandas.core.frame.DataFrame'>\n",
      "RangeIndex: 1048575 entries, 0 to 1048574\n",
      "Data columns (total 19 columns):\n",
      " #   Column               Non-Null Count    Dtype         \n",
      "---  ------               --------------    -----         \n",
      " 0   Transaction ID       1048575 non-null  object        \n",
      " 1   Customer ID          1048575 non-null  object        \n",
      " 2   Transaction Amount   1048575 non-null  float64       \n",
      " 3   Transaction Date     1048575 non-null  datetime64[ns]\n",
      " 4   Payment Method       1048575 non-null  object        \n",
      " 5   Product Category     1048575 non-null  object        \n",
      " 6   Quantity             1048575 non-null  int64         \n",
      " 7   Customer Age         1048575 non-null  int64         \n",
      " 8   Customer Location    1048575 non-null  object        \n",
      " 9   Device Used          1048575 non-null  object        \n",
      " 10  IP Address           1048575 non-null  object        \n",
      " 11  Shipping Address     1048575 non-null  object        \n",
      " 12  Billing Address      1048575 non-null  object        \n",
      " 13  Is Fraudulent        1048575 non-null  int64         \n",
      " 14  Account Age Days     1048575 non-null  int64         \n",
      " 15  Transaction Hour     1048575 non-null  int32         \n",
      " 16  Transaction Month    1048575 non-null  int32         \n",
      " 17  Transaction Day      1048575 non-null  int32         \n",
      " 18  Transaction Weekday  1048575 non-null  int32         \n",
      "dtypes: datetime64[ns](1), float64(1), int32(4), int64(4), object(9)\n",
      "memory usage: 136.0+ MB\n"
     ]
    }
   ],
   "source": [
    "df.info()"
   ]
  },
  {
   "cell_type": "code",
   "execution_count": 12,
   "id": "592579d1-d0cd-4308-9ebb-4fa0ec548100",
   "metadata": {},
   "outputs": [
    {
     "data": {
      "text/plain": [
       "(1048575, 19)"
      ]
     },
     "execution_count": 12,
     "metadata": {},
     "output_type": "execute_result"
    }
   ],
   "source": [
    "df.shape"
   ]
  },
  {
   "cell_type": "code",
   "execution_count": 13,
   "id": "f8e34102-31cb-45d5-a3e0-2eb3f65a0dfd",
   "metadata": {},
   "outputs": [
    {
     "data": {
      "text/html": [
       "<div>\n",
       "<style scoped>\n",
       "    .dataframe tbody tr th:only-of-type {\n",
       "        vertical-align: middle;\n",
       "    }\n",
       "\n",
       "    .dataframe tbody tr th {\n",
       "        vertical-align: top;\n",
       "    }\n",
       "\n",
       "    .dataframe thead th {\n",
       "        text-align: right;\n",
       "    }\n",
       "</style>\n",
       "<table border=\"1\" class=\"dataframe\">\n",
       "  <thead>\n",
       "    <tr style=\"text-align: right;\">\n",
       "      <th></th>\n",
       "      <th>Transaction ID</th>\n",
       "      <th>Customer ID</th>\n",
       "      <th>Transaction Amount</th>\n",
       "      <th>Transaction Date</th>\n",
       "      <th>Payment Method</th>\n",
       "      <th>Product Category</th>\n",
       "      <th>Quantity</th>\n",
       "      <th>Customer Age</th>\n",
       "      <th>Customer Location</th>\n",
       "      <th>Device Used</th>\n",
       "      <th>IP Address</th>\n",
       "      <th>Shipping Address</th>\n",
       "      <th>Billing Address</th>\n",
       "      <th>Is Fraudulent</th>\n",
       "      <th>Account Age Days</th>\n",
       "      <th>Transaction Hour</th>\n",
       "      <th>Transaction Month</th>\n",
       "      <th>Transaction Day</th>\n",
       "      <th>Transaction Weekday</th>\n",
       "    </tr>\n",
       "  </thead>\n",
       "  <tbody>\n",
       "    <tr>\n",
       "      <th>0</th>\n",
       "      <td>15d2e414-8735-46fc-9e02-80b472b2580f</td>\n",
       "      <td>d1b87f62-51b2-493b-ad6a-77e0fe13e785</td>\n",
       "      <td>58.09</td>\n",
       "      <td>2024-02-20 05:58:00</td>\n",
       "      <td>bank transfer</td>\n",
       "      <td>electronics</td>\n",
       "      <td>1</td>\n",
       "      <td>17</td>\n",
       "      <td>Amandaborough</td>\n",
       "      <td>tablet</td>\n",
       "      <td>212.195.49.198</td>\n",
       "      <td>Unit 8934 Box 0058\\nDPO AA 05437</td>\n",
       "      <td>Unit 8934 Box 0058\\nDPO AA 05437</td>\n",
       "      <td>0</td>\n",
       "      <td>30</td>\n",
       "      <td>5</td>\n",
       "      <td>2</td>\n",
       "      <td>20</td>\n",
       "      <td>1</td>\n",
       "    </tr>\n",
       "    <tr>\n",
       "      <th>1</th>\n",
       "      <td>0bfee1a0-6d5e-40da-a446-d04e73b1b177</td>\n",
       "      <td>37de64d5-e901-4a56-9ea0-af0c24c069cf</td>\n",
       "      <td>389.96</td>\n",
       "      <td>2024-02-25 08:09:00</td>\n",
       "      <td>debit card</td>\n",
       "      <td>electronics</td>\n",
       "      <td>2</td>\n",
       "      <td>40</td>\n",
       "      <td>East Timothy</td>\n",
       "      <td>desktop</td>\n",
       "      <td>208.106.249.121</td>\n",
       "      <td>634 May Keys\\nPort Cherylview, NV 75063</td>\n",
       "      <td>634 May Keys\\nPort Cherylview, NV 75063</td>\n",
       "      <td>0</td>\n",
       "      <td>72</td>\n",
       "      <td>8</td>\n",
       "      <td>2</td>\n",
       "      <td>25</td>\n",
       "      <td>6</td>\n",
       "    </tr>\n",
       "  </tbody>\n",
       "</table>\n",
       "</div>"
      ],
      "text/plain": [
       "                         Transaction ID                           Customer ID  \\\n",
       "0  15d2e414-8735-46fc-9e02-80b472b2580f  d1b87f62-51b2-493b-ad6a-77e0fe13e785   \n",
       "1  0bfee1a0-6d5e-40da-a446-d04e73b1b177  37de64d5-e901-4a56-9ea0-af0c24c069cf   \n",
       "\n",
       "   Transaction Amount    Transaction Date Payment Method Product Category  \\\n",
       "0               58.09 2024-02-20 05:58:00  bank transfer      electronics   \n",
       "1              389.96 2024-02-25 08:09:00     debit card      electronics   \n",
       "\n",
       "   Quantity  Customer Age Customer Location Device Used       IP Address  \\\n",
       "0         1            17     Amandaborough      tablet   212.195.49.198   \n",
       "1         2            40      East Timothy     desktop  208.106.249.121   \n",
       "\n",
       "                          Shipping Address  \\\n",
       "0         Unit 8934 Box 0058\\nDPO AA 05437   \n",
       "1  634 May Keys\\nPort Cherylview, NV 75063   \n",
       "\n",
       "                           Billing Address  Is Fraudulent  Account Age Days  \\\n",
       "0         Unit 8934 Box 0058\\nDPO AA 05437              0                30   \n",
       "1  634 May Keys\\nPort Cherylview, NV 75063              0                72   \n",
       "\n",
       "   Transaction Hour  Transaction Month  Transaction Day  Transaction Weekday  \n",
       "0                 5                  2               20                    1  \n",
       "1                 8                  2               25                    6  "
      ]
     },
     "execution_count": 13,
     "metadata": {},
     "output_type": "execute_result"
    }
   ],
   "source": [
    "df.head(2)"
   ]
  },
  {
   "cell_type": "markdown",
   "id": "a4ffa30f-5c6d-4c7d-a37c-77e4ab11f707",
   "metadata": {},
   "source": [
    "### 5. Exploratory Data Analysis (EDA)"
   ]
  },
  {
   "cell_type": "code",
   "execution_count": 14,
   "id": "02d6f75b-1bd6-48c5-9642-c3f5eb5a573d",
   "metadata": {},
   "outputs": [
    {
     "data": {
      "text/plain": [
       "Is Fraudulent\n",
       "0    94.991298\n",
       "1     5.008702\n",
       "Name: proportion, dtype: float64"
      ]
     },
     "execution_count": 14,
     "metadata": {},
     "output_type": "execute_result"
    }
   ],
   "source": [
    "df['Is Fraudulent'].value_counts(normalize=True) * 100"
   ]
  },
  {
   "cell_type": "code",
   "execution_count": 15,
   "id": "934971a8-8e1a-4b88-bba8-ccaf7799c00c",
   "metadata": {},
   "outputs": [
    {
     "name": "stdout",
     "output_type": "stream",
     "text": [
      "Fraud Counts Is Fraudulent\n",
      "0    996055\n",
      "1     52520\n",
      "Name: count, dtype: int64\n",
      "Fraud Percent Is Fraudulent\n",
      "0    94.991298\n",
      "1     5.008702\n",
      "Name: count, dtype: float64\n",
      "Fraud Label ['94.99%', '5.01%']\n"
     ]
    }
   ],
   "source": [
    "# Count and calculate percentage\n",
    "fraud_counts = df['Is Fraudulent'].value_counts().sort_index()\n",
    "fraud_percent = (fraud_counts / fraud_counts.sum()) * 100\n",
    "fraud_labels = [f'{p:.2f}%' for p in fraud_percent]\n",
    "print(\"Fraud Counts\",fraud_counts)\n",
    "print(\"Fraud Percent\",fraud_percent)\n",
    "print(\"Fraud Label\",fraud_labels)"
   ]
  },
  {
   "cell_type": "markdown",
   "id": "094a77c4-126a-4ad1-8ffd-0cbf236467b0",
   "metadata": {},
   "source": [
    "### 6. Visuals and Insights"
   ]
  },
  {
   "cell_type": "code",
   "execution_count": 16,
   "id": "32050a56-ab81-4f79-b2b3-bd9d2bc29b17",
   "metadata": {},
   "outputs": [
    {
     "data": {
      "image/png": "[encoded data removed]",
      "text/plain": [
       "<Figure size 500x500 with 1 Axes>"
      ]
     },
     "metadata": {},
     "output_type": "display_data"
    }
   ],
   "source": [
    "plt.figure(figsize = (5,5))\n",
    "ax = sns.countplot(data = df ,x = 'Is Fraudulent',width = 0.3)\n",
    "plt.title('Fraud vs Non-Fraud Transections')\n",
    "\n",
    "for bar, label in zip(ax.patches, fraud_labels):\n",
    "    height = bar.get_height()\n",
    "    ax.text(bar.get_x() + bar.get_width()/2, height + 1000, label,\n",
    "            ha='center', va='bottom', fontsize=9, color='black')\n",
    "\n",
    "    \n",
    "plt.xticks([0,1],[\"non fraud\",\"fraud\"])\n",
    "plt.show()"
   ]
  },
  {
   "cell_type": "markdown",
   "id": "c30010e0-3afb-4a85-aff9-6487906e7805",
   "metadata": {},
   "source": [
    "## Insight\n",
    "\n",
    "### Graph shows that only a small portion (5%) of transactions are fraudulent, which indicates class imbalance in the dataset. This was handled during model training using class weights"
   ]
  },
  {
   "cell_type": "code",
   "execution_count": 17,
   "id": "b19a8dbd-cb79-4c85-b46b-319d31c1db2b",
   "metadata": {},
   "outputs": [
    {
     "data": {
      "text/plain": [
       "Payment Method\n",
       "PayPal           13023\n",
       "bank transfer    13207\n",
       "credit card      13038\n",
       "debit card       13252\n",
       "Name: Is Fraudulent, dtype: int64"
      ]
     },
     "execution_count": 17,
     "metadata": {},
     "output_type": "execute_result"
    }
   ],
   "source": [
    "df.groupby(\"Payment Method\")[\"Is Fraudulent\"].sum()"
   ]
  },
  {
   "cell_type": "code",
   "execution_count": 18,
   "id": "27333102-a5c4-4218-9e2d-49ceb76c767d",
   "metadata": {},
   "outputs": [
    {
     "data": {
      "image/png": "[encoded data removed]",
      "text/plain": [
       "<Figure size 800x500 with 1 Axes>"
      ]
     },
     "metadata": {},
     "output_type": "display_data"
    }
   ],
   "source": [
    "plt.figure(figsize = (8,5))\n",
    "ax = sns.countplot(data = df ,x = 'Payment Method',hue = 'Is Fraudulent')\n",
    "plt.title('Payment Method vs Fraudulent')\n",
    "plt.xticks(rotation = 45)\n",
    "\n",
    "plt.legend(title='Is Fraudulent', bbox_to_anchor=(1.05, 1), loc='upper left')\n",
    "plt.grid()\n",
    "for container in ax.containers:\n",
    "    ax.bar_label(container, label_type='edge', padding=1, fontsize=8, color='black')\n",
    "plt.savefig('payment_vs_fraud.png', bbox_inches='tight', dpi=300)\n",
    "plt.tight_layout()\n",
    "plt.show()"
   ]
  },
  {
   "cell_type": "markdown",
   "id": "ac0fa36b-238c-4904-abbd-7c074b1f703b",
   "metadata": {},
   "source": [
    "## Insight:\n",
    "### Debit Card and Bank Transfer methods are more associated with fraudulent transactions."
   ]
  },
  {
   "cell_type": "code",
   "execution_count": 19,
   "id": "340df7f1-9cb2-4f0f-9078-5e4549fafc88",
   "metadata": {},
   "outputs": [],
   "source": [
    "# Find indexes where Customer Age <= 0 and # Drop those rows\n",
    "\n",
    "invalid_age = df[df[\"Customer Age\"] <= 0 ].index\n",
    "df.drop(index = invalid_age,inplace = True)"
   ]
  },
  {
   "cell_type": "code",
   "execution_count": 20,
   "id": "f90b6fc9-4002-4594-8319-621ef0659edb",
   "metadata": {},
   "outputs": [
    {
     "name": "stdout",
     "output_type": "stream",
     "text": [
      "Invalid ages left: 0\n"
     ]
    }
   ],
   "source": [
    "# Check after cleaning\n",
    "\n",
    "print(\"Invalid ages left:\", df[df[\"Customer Age\"] <= 0].shape[0])"
   ]
  },
  {
   "cell_type": "code",
   "execution_count": 21,
   "id": "4b9b41e4-62cd-4fa8-87af-4def1aa543ca",
   "metadata": {},
   "outputs": [],
   "source": [
    "df.to_csv('cleaned_fraud_data.csv', index=False)"
   ]
  },
  {
   "cell_type": "code",
   "execution_count": 22,
   "id": "a0872bbf-9a96-43c2-bb3d-ff128f7d6843",
   "metadata": {},
   "outputs": [
    {
     "data": {
      "text/plain": [
       "count    995691.000000\n",
       "mean         34.532694\n",
       "std           9.977257\n",
       "min           1.000000\n",
       "25%          28.000000\n",
       "50%          35.000000\n",
       "75%          41.000000\n",
       "max          86.000000\n",
       "Name: Customer Age, dtype: float64"
      ]
     },
     "execution_count": 22,
     "metadata": {},
     "output_type": "execute_result"
    }
   ],
   "source": [
    "df[df['Is Fraudulent'] == 0]['Customer Age'].describe()"
   ]
  },
  {
   "cell_type": "code",
   "execution_count": 23,
   "id": "7c22a9bf-f27b-44da-ae66-807bef6e1393",
   "metadata": {},
   "outputs": [
    {
     "data": {
      "text/plain": [
       "count    52502.000000\n",
       "mean        34.534437\n",
       "std         10.021587\n",
       "min          1.000000\n",
       "25%         28.000000\n",
       "50%         35.000000\n",
       "75%         41.000000\n",
       "max         77.000000\n",
       "Name: Customer Age, dtype: float64"
      ]
     },
     "execution_count": 23,
     "metadata": {},
     "output_type": "execute_result"
    }
   ],
   "source": [
    "df[df['Is Fraudulent'] == 1]['Customer Age'].describe()"
   ]
  },
  {
   "cell_type": "code",
   "execution_count": 24,
   "id": "1dcc0598-49f4-4feb-b220-bb91728fb89d",
   "metadata": {},
   "outputs": [
    {
     "name": "stdout",
     "output_type": "stream",
     "text": [
      "Fraudulent Age Range: min     1\n",
      "max    77\n",
      "Name: Customer Age, dtype: int64\n",
      "Non-Fraudulent Age Range: min     1\n",
      "max    86\n",
      "Name: Customer Age, dtype: int64\n"
     ]
    }
   ],
   "source": [
    "# Fraudulent transactions\n",
    "fraud_age_range = df[df['Is Fraudulent'] == 1]['Customer Age'].agg(['min', 'max'])\n",
    "print(\"Fraudulent Age Range:\", fraud_age_range)\n",
    "\n",
    "# Non-fraudulent transactions\n",
    "nonfraud_age_range = df[df['Is Fraudulent'] == 0]['Customer Age'].agg(['min', 'max'])\n",
    "print(\"Non-Fraudulent Age Range:\", nonfraud_age_range)\n"
   ]
  },
  {
   "cell_type": "markdown",
   "id": "4e71829b-b6c3-425e-ac1a-2c926a7e2cd8",
   "metadata": {},
   "source": [
    "## Insight:\n",
    "### Removed invalid age values (age <= 0) for data consistency."
   ]
  },
  {
   "cell_type": "code",
   "execution_count": 25,
   "id": "4cffed66-7d28-4a48-80fa-5661a6f40660",
   "metadata": {},
   "outputs": [
    {
     "data": {
      "image/png": "[encoded data removed]",
      "text/plain": [
       "<Figure size 640x480 with 1 Axes>"
      ]
     },
     "metadata": {},
     "output_type": "display_data"
    }
   ],
   "source": [
    "# Customer Age vs fraud Analysis\n",
    "sns.boxplot(data=df, x='Is Fraudulent', y='Customer Age',color = 'pink')\n",
    "plt.title(\"Age vs Fraud\")\n",
    "plt.xticks([0, 1], ['Non-Fraud', 'Fraud'], fontsize=11)\n",
    "plt.yticks(fontsize=11)\n",
    "plt.show()"
   ]
  },
  {
   "cell_type": "markdown",
   "id": "adc49a76-c92d-4469-8794-65b4fdfb3d4f",
   "metadata": {},
   "source": [
    "## Insight:\n",
    "### Fraudulent customers are mostly between 25–41 years of age.\n"
   ]
  },
  {
   "cell_type": "code",
   "execution_count": 26,
   "id": "9b98a3a7-2237-4b07-9382-5c664d4535f4",
   "metadata": {},
   "outputs": [
    {
     "data": {
      "text/plain": [
       "Product Category\n",
       "clothing           10456\n",
       "electronics        10391\n",
       "health & beauty    10529\n",
       "home & garden      10555\n",
       "toys & games       10571\n",
       "Name: Is Fraudulent, dtype: int64"
      ]
     },
     "execution_count": 26,
     "metadata": {},
     "output_type": "execute_result"
    }
   ],
   "source": [
    "df.groupby(\"Product Category\")[\"Is Fraudulent\"].sum()"
   ]
  },
  {
   "cell_type": "code",
   "execution_count": 27,
   "id": "5404664b-add7-4ab8-b47a-18ea1bab037d",
   "metadata": {},
   "outputs": [
    {
     "data": {
      "image/png": "[encoded data removed]",
      "text/plain": [
       "<Figure size 640x480 with 1 Axes>"
      ]
     },
     "metadata": {},
     "output_type": "display_data"
    }
   ],
   "source": [
    "# Product Category Analysis\n",
    "fraud_df = df[df['Is Fraudulent'] == 1]\n",
    "\n",
    "ax = fraud_df['Product Category'].value_counts().plot(kind='bar', title='Fraud by Product Category',color = 'pink')\n",
    "plt.xticks(rotation=45)\n",
    "\n",
    "for container in ax.containers:\n",
    "    ax.bar_label(container, label_type='edge', padding=1, fontsize=8, color='black')\n",
    "plt.tight_layout\n",
    "plt.show()\n"
   ]
  },
  {
   "cell_type": "markdown",
   "id": "3f90c20c-f216-44e7-bc97-f3126cacae3b",
   "metadata": {},
   "source": [
    "## Insight:\n",
    "### Some specific product categories show higher fraud occurrence."
   ]
  },
  {
   "cell_type": "code",
   "execution_count": 28,
   "id": "3975929e-91c9-4df5-8e20-12e9a294b1e4",
   "metadata": {},
   "outputs": [
    {
     "data": {
      "text/html": [
       "<div>\n",
       "<style scoped>\n",
       "    .dataframe tbody tr th:only-of-type {\n",
       "        vertical-align: middle;\n",
       "    }\n",
       "\n",
       "    .dataframe tbody tr th {\n",
       "        vertical-align: top;\n",
       "    }\n",
       "\n",
       "    .dataframe thead th {\n",
       "        text-align: right;\n",
       "    }\n",
       "</style>\n",
       "<table border=\"1\" class=\"dataframe\">\n",
       "  <thead>\n",
       "    <tr style=\"text-align: right;\">\n",
       "      <th></th>\n",
       "      <th>Not Fraud</th>\n",
       "      <th>Fraudulent</th>\n",
       "    </tr>\n",
       "    <tr>\n",
       "      <th>Payment Method</th>\n",
       "      <th></th>\n",
       "      <th></th>\n",
       "    </tr>\n",
       "  </thead>\n",
       "  <tbody>\n",
       "    <tr>\n",
       "      <th>debit card</th>\n",
       "      <td>94.950538</td>\n",
       "      <td>5.049462</td>\n",
       "    </tr>\n",
       "    <tr>\n",
       "      <th>bank transfer</th>\n",
       "      <td>94.964158</td>\n",
       "      <td>5.035842</td>\n",
       "    </tr>\n",
       "    <tr>\n",
       "      <th>PayPal</th>\n",
       "      <td>95.023240</td>\n",
       "      <td>4.976760</td>\n",
       "    </tr>\n",
       "    <tr>\n",
       "      <th>credit card</th>\n",
       "      <td>95.026914</td>\n",
       "      <td>4.973086</td>\n",
       "    </tr>\n",
       "  </tbody>\n",
       "</table>\n",
       "</div>"
      ],
      "text/plain": [
       "                Not Fraud  Fraudulent\n",
       "Payment Method                       \n",
       "debit card      94.950538    5.049462\n",
       "bank transfer   94.964158    5.035842\n",
       "PayPal          95.023240    4.976760\n",
       "credit card     95.026914    4.973086"
      ]
     },
     "execution_count": 28,
     "metadata": {},
     "output_type": "execute_result"
    }
   ],
   "source": [
    "# Fraud % by Payment Method\n",
    "fraud_rate = pd.crosstab(df['Payment Method'], df['Is Fraudulent'], normalize='index') * 100\n",
    "fraud_rate.columns = ['Not Fraud', 'Fraudulent']\n",
    "fraud_rate = fraud_rate.sort_values(by='Fraudulent', ascending=False)\n",
    "fraud_rate"
   ]
  },
  {
   "cell_type": "code",
   "execution_count": 29,
   "id": "7113d529-a099-4846-8552-54cb95587833",
   "metadata": {},
   "outputs": [
    {
     "name": "stderr",
     "output_type": "stream",
     "text": [
      "C:\\Users\\Kajal Prajapati\\AppData\\Local\\Temp\\ipykernel_5328\\1377435252.py:2: FutureWarning: \n",
      "\n",
      "Passing `palette` without assigning `hue` is deprecated and will be removed in v0.14.0. Assign the `y` variable to `hue` and set `legend=False` for the same effect.\n",
      "\n",
      "  ax = sns.barplot(data=fraud_rate, y='Payment Method', x='Fraudulent', palette='Blues_r',width = 0.5)\n"
     ]
    },
    {
     "data": {
      "image/png": "[encoded data removed]",
      "text/plain": [
       "<Figure size 600x500 with 1 Axes>"
      ]
     },
     "metadata": {},
     "output_type": "display_data"
    }
   ],
   "source": [
    "plt.figure(figsize = (6,5))\n",
    "ax = sns.barplot(data=fraud_rate, y='Payment Method', x='Fraudulent', palette='Blues_r',width = 0.5)\n",
    "\n",
    "for container in ax.containers:\n",
    "    ax.bar_label(container, label_type='edge',fmt='%.2f%%', padding=1, fontsize=8, color='black',rotation = 270)\n",
    "\n",
    "plt.title(\"Fraud % by Payment Method\")\n",
    "plt.ylabel(\"Fraudulent Transactions (%)\")\n",
    "plt.xticks()\n",
    "plt.tight_layout()\n",
    "plt.show()"
   ]
  },
  {
   "cell_type": "markdown",
   "id": "3d1e0c93-93ff-48c5-9b53-f84ba2ae3e56",
   "metadata": {},
   "source": [
    "## Insight:\n",
    "### payment methods have up to 4–5% fraud rate, making them riskier"
   ]
  },
  {
   "cell_type": "code",
   "execution_count": 30,
   "id": "9160faaf-28e9-44c5-bcf8-c56a41cc429e",
   "metadata": {},
   "outputs": [
    {
     "data": {
      "text/plain": [
       "Device Used\n",
       "desktop    17462\n",
       "mobile     17670\n",
       "tablet     17370\n",
       "Name: Is Fraudulent, dtype: int64"
      ]
     },
     "execution_count": 30,
     "metadata": {},
     "output_type": "execute_result"
    }
   ],
   "source": [
    "df.groupby(\"Device Used\")[\"Is Fraudulent\"].sum()"
   ]
  },
  {
   "cell_type": "code",
   "execution_count": 31,
   "id": "5bda5aee-00ca-42ca-af55-706270be41dd",
   "metadata": {},
   "outputs": [
    {
     "data": {
      "image/png": "[encoded data removed]",
      "text/plain": [
       "<Figure size 800x500 with 1 Axes>"
      ]
     },
     "metadata": {},
     "output_type": "display_data"
    }
   ],
   "source": [
    "# Device Used Analysis\n",
    "\n",
    "plt.figure(figsize = (8,5))\n",
    "ax = sns.countplot(data=df, x='Device Used', hue='Is Fraudulent',width = 0.5)\n",
    "plt.legend(title='Is Fraudulent', bbox_to_anchor=(1.05, 1), loc='upper left')\n",
    "for container in ax.containers:\n",
    "    ax.bar_label(container, label_type='edge', padding=1, fontsize=8, color='black')\n",
    "plt.title(\"Device Type vs Fraud\")\n",
    "plt.show()\n"
   ]
  },
  {
   "cell_type": "markdown",
   "id": "121395ac-e757-4e64-bae6-f499a953aea1",
   "metadata": {},
   "source": [
    "## Insight:\n",
    "### Mobile devices are more associated with fraudulent activity."
   ]
  },
  {
   "cell_type": "code",
   "execution_count": 32,
   "id": "bc8da826-0a8f-4049-a6fd-a55e055be770",
   "metadata": {},
   "outputs": [
    {
     "name": "stderr",
     "output_type": "stream",
     "text": [
      "C:\\Users\\Kajal Prajapati\\AppData\\Local\\Temp\\ipykernel_5328\\1756717284.py:9: FutureWarning: \n",
      "\n",
      "Passing `palette` without assigning `hue` is deprecated and will be removed in v0.14.0. Assign the `y` variable to `hue` and set `legend=False` for the same effect.\n",
      "\n",
      "  sns.barplot(x=fraud_location.values, y=fraud_location.index, palette='Reds_r',width = 0.6)\n"
     ]
    },
    {
     "data": {
      "image/png": "[encoded data removed]",
      "text/plain": [
       "<Figure size 800x500 with 1 Axes>"
      ]
     },
     "metadata": {},
     "output_type": "display_data"
    }
   ],
   "source": [
    "# Fraud-only dataset\n",
    "fraud_df = df[df['Is Fraudulent'] == 1]\n",
    "\n",
    "# Fraud count by location\n",
    "fraud_location = fraud_df['Customer Location'].value_counts().head(10)\n",
    "\n",
    "# Top 10 Fraud Locations\n",
    "plt.figure(figsize=(8,5))\n",
    "sns.barplot(x=fraud_location.values, y=fraud_location.index, palette='Reds_r',width = 0.6)\n",
    "\n",
    "plt.title('Top 10 Locations with Most Fraud Cases')\n",
    "plt.xlabel('Number of Fraud Transactions')\n",
    "plt.ylabel('Customer Location')\n",
    "plt.tight_layout()\n",
    "plt.show()"
   ]
  },
  {
   "cell_type": "markdown",
   "id": "1872a19b-f9dd-41ec-957c-80f02e7dfe86",
   "metadata": {},
   "source": [
    "## Insight:\n",
    "### Fraud cases are mostly concentrated in specific customer locations."
   ]
  },
  {
   "cell_type": "markdown",
   "id": "d603459a-2ea5-42c8-90f3-e6e770a10ee8",
   "metadata": {},
   "source": [
    "### 7. Model Building"
   ]
  },
  {
   "cell_type": "code",
   "execution_count": 33,
   "id": "7044f860-dc6f-44ba-97af-d05aa2174670",
   "metadata": {},
   "outputs": [],
   "source": [
    "# Prepare for modeling\n",
    "df_model = df.copy()\n",
    "\n",
    "# Encode Device and Payment Method columns\n",
    "df_model = pd.get_dummies(df_model, columns=['Device Used', 'Payment Method'], drop_first=True)\n"
   ]
  },
  {
   "cell_type": "code",
   "execution_count": 34,
   "id": "ceb6a9a6-2bdc-4057-a170-73424aea5552",
   "metadata": {},
   "outputs": [
    {
     "data": {
      "text/html": [
       "<div>\n",
       "<style scoped>\n",
       "    .dataframe tbody tr th:only-of-type {\n",
       "        vertical-align: middle;\n",
       "    }\n",
       "\n",
       "    .dataframe tbody tr th {\n",
       "        vertical-align: top;\n",
       "    }\n",
       "\n",
       "    .dataframe thead th {\n",
       "        text-align: right;\n",
       "    }\n",
       "</style>\n",
       "<table border=\"1\" class=\"dataframe\">\n",
       "  <thead>\n",
       "    <tr style=\"text-align: right;\">\n",
       "      <th></th>\n",
       "      <th>Transaction ID</th>\n",
       "      <th>Customer ID</th>\n",
       "      <th>Transaction Amount</th>\n",
       "      <th>Transaction Date</th>\n",
       "      <th>Product Category</th>\n",
       "      <th>Quantity</th>\n",
       "      <th>Customer Age</th>\n",
       "      <th>Customer Location</th>\n",
       "      <th>IP Address</th>\n",
       "      <th>Shipping Address</th>\n",
       "      <th>...</th>\n",
       "      <th>Account Age Days</th>\n",
       "      <th>Transaction Hour</th>\n",
       "      <th>Transaction Month</th>\n",
       "      <th>Transaction Day</th>\n",
       "      <th>Transaction Weekday</th>\n",
       "      <th>Device Used_mobile</th>\n",
       "      <th>Device Used_tablet</th>\n",
       "      <th>Payment Method_bank transfer</th>\n",
       "      <th>Payment Method_credit card</th>\n",
       "      <th>Payment Method_debit card</th>\n",
       "    </tr>\n",
       "  </thead>\n",
       "  <tbody>\n",
       "    <tr>\n",
       "      <th>0</th>\n",
       "      <td>15d2e414-8735-46fc-9e02-80b472b2580f</td>\n",
       "      <td>d1b87f62-51b2-493b-ad6a-77e0fe13e785</td>\n",
       "      <td>58.09</td>\n",
       "      <td>2024-02-20 05:58:00</td>\n",
       "      <td>electronics</td>\n",
       "      <td>1</td>\n",
       "      <td>17</td>\n",
       "      <td>Amandaborough</td>\n",
       "      <td>212.195.49.198</td>\n",
       "      <td>Unit 8934 Box 0058\\nDPO AA 05437</td>\n",
       "      <td>...</td>\n",
       "      <td>30</td>\n",
       "      <td>5</td>\n",
       "      <td>2</td>\n",
       "      <td>20</td>\n",
       "      <td>1</td>\n",
       "      <td>False</td>\n",
       "      <td>True</td>\n",
       "      <td>True</td>\n",
       "      <td>False</td>\n",
       "      <td>False</td>\n",
       "    </tr>\n",
       "    <tr>\n",
       "      <th>1</th>\n",
       "      <td>0bfee1a0-6d5e-40da-a446-d04e73b1b177</td>\n",
       "      <td>37de64d5-e901-4a56-9ea0-af0c24c069cf</td>\n",
       "      <td>389.96</td>\n",
       "      <td>2024-02-25 08:09:00</td>\n",
       "      <td>electronics</td>\n",
       "      <td>2</td>\n",
       "      <td>40</td>\n",
       "      <td>East Timothy</td>\n",
       "      <td>208.106.249.121</td>\n",
       "      <td>634 May Keys\\nPort Cherylview, NV 75063</td>\n",
       "      <td>...</td>\n",
       "      <td>72</td>\n",
       "      <td>8</td>\n",
       "      <td>2</td>\n",
       "      <td>25</td>\n",
       "      <td>6</td>\n",
       "      <td>False</td>\n",
       "      <td>False</td>\n",
       "      <td>False</td>\n",
       "      <td>False</td>\n",
       "      <td>True</td>\n",
       "    </tr>\n",
       "  </tbody>\n",
       "</table>\n",
       "<p>2 rows × 21 columns</p>\n",
       "</div>"
      ],
      "text/plain": [
       "                         Transaction ID                           Customer ID  \\\n",
       "0  15d2e414-8735-46fc-9e02-80b472b2580f  d1b87f62-51b2-493b-ad6a-77e0fe13e785   \n",
       "1  0bfee1a0-6d5e-40da-a446-d04e73b1b177  37de64d5-e901-4a56-9ea0-af0c24c069cf   \n",
       "\n",
       "   Transaction Amount    Transaction Date Product Category  Quantity  \\\n",
       "0               58.09 2024-02-20 05:58:00      electronics         1   \n",
       "1              389.96 2024-02-25 08:09:00      electronics         2   \n",
       "\n",
       "   Customer Age Customer Location       IP Address  \\\n",
       "0            17     Amandaborough   212.195.49.198   \n",
       "1            40      East Timothy  208.106.249.121   \n",
       "\n",
       "                          Shipping Address  ... Account Age Days  \\\n",
       "0         Unit 8934 Box 0058\\nDPO AA 05437  ...               30   \n",
       "1  634 May Keys\\nPort Cherylview, NV 75063  ...               72   \n",
       "\n",
       "   Transaction Hour  Transaction Month  Transaction Day  Transaction Weekday  \\\n",
       "0                 5                  2               20                    1   \n",
       "1                 8                  2               25                    6   \n",
       "\n",
       "   Device Used_mobile  Device Used_tablet  Payment Method_bank transfer  \\\n",
       "0               False                True                          True   \n",
       "1               False               False                         False   \n",
       "\n",
       "   Payment Method_credit card  Payment Method_debit card  \n",
       "0                       False                      False  \n",
       "1                       False                       True  \n",
       "\n",
       "[2 rows x 21 columns]"
      ]
     },
     "execution_count": 34,
     "metadata": {},
     "output_type": "execute_result"
    }
   ],
   "source": [
    "X = df_model.drop('Is Fraudulent', axis=1)  # features\n",
    "y = df_model['Is Fraudulent']               # target\n",
    "X.head(2)"
   ]
  },
  {
   "cell_type": "code",
   "execution_count": 35,
   "id": "98d0770f-472e-4b8b-bea1-1efa808777af",
   "metadata": {},
   "outputs": [
    {
     "data": {
      "text/html": [
       "<div>\n",
       "<style scoped>\n",
       "    .dataframe tbody tr th:only-of-type {\n",
       "        vertical-align: middle;\n",
       "    }\n",
       "\n",
       "    .dataframe tbody tr th {\n",
       "        vertical-align: top;\n",
       "    }\n",
       "\n",
       "    .dataframe thead th {\n",
       "        text-align: right;\n",
       "    }\n",
       "</style>\n",
       "<table border=\"1\" class=\"dataframe\">\n",
       "  <thead>\n",
       "    <tr style=\"text-align: right;\">\n",
       "      <th></th>\n",
       "      <th>Transaction Amount</th>\n",
       "      <th>Quantity</th>\n",
       "      <th>Customer Age</th>\n",
       "      <th>Account Age Days</th>\n",
       "      <th>Transaction Hour</th>\n",
       "      <th>Transaction Month</th>\n",
       "      <th>Transaction Day</th>\n",
       "      <th>Transaction Weekday</th>\n",
       "      <th>Device Used_mobile</th>\n",
       "      <th>Device Used_tablet</th>\n",
       "      <th>Payment Method_bank transfer</th>\n",
       "      <th>Payment Method_credit card</th>\n",
       "      <th>Payment Method_debit card</th>\n",
       "    </tr>\n",
       "  </thead>\n",
       "  <tbody>\n",
       "    <tr>\n",
       "      <th>0</th>\n",
       "      <td>58.09</td>\n",
       "      <td>1</td>\n",
       "      <td>17</td>\n",
       "      <td>30</td>\n",
       "      <td>5</td>\n",
       "      <td>2</td>\n",
       "      <td>20</td>\n",
       "      <td>1</td>\n",
       "      <td>False</td>\n",
       "      <td>True</td>\n",
       "      <td>True</td>\n",
       "      <td>False</td>\n",
       "      <td>False</td>\n",
       "    </tr>\n",
       "  </tbody>\n",
       "</table>\n",
       "</div>"
      ],
      "text/plain": [
       "   Transaction Amount  Quantity  Customer Age  Account Age Days  \\\n",
       "0               58.09         1            17                30   \n",
       "\n",
       "   Transaction Hour  Transaction Month  Transaction Day  Transaction Weekday  \\\n",
       "0                 5                  2               20                    1   \n",
       "\n",
       "   Device Used_mobile  Device Used_tablet  Payment Method_bank transfer  \\\n",
       "0               False                True                          True   \n",
       "\n",
       "   Payment Method_credit card  Payment Method_debit card  \n",
       "0                       False                      False  "
      ]
     },
     "execution_count": 35,
     "metadata": {},
     "output_type": "execute_result"
    }
   ],
   "source": [
    "X = df_model.drop(columns=[\n",
    "    'Is Fraudulent', 'Customer ID', 'Transaction Date','Transaction ID',\n",
    "    'Product Category', 'Customer Location', 'IP Address',\n",
    "    'Shipping Address','Billing Address'\n",
    "])\n",
    "X.head(1)"
   ]
  },
  {
   "cell_type": "code",
   "execution_count": 36,
   "id": "1fdbc181-b5f6-447a-b473-d212dda433d0",
   "metadata": {},
   "outputs": [],
   "source": [
    "from sklearn.model_selection import train_test_split\n",
    "\n",
    "X_train, X_test, y_train, y_test = train_test_split(\n",
    "    X, y, test_size=0.2, random_state=42\n",
    ")\n"
   ]
  },
  {
   "cell_type": "code",
   "execution_count": 37,
   "id": "38cb1283-cfc4-46b5-80aa-15a319b5e58e",
   "metadata": {},
   "outputs": [
    {
     "data": {
      "text/html": [
       "<style>#sk-container-id-1 {\n",
       "  /* Definition of color scheme common for light and dark mode */\n",
       "  --sklearn-color-text: black;\n",
       "  --sklearn-color-line: gray;\n",
       "  /* Definition of color scheme for unfitted estimators */\n",
       "  --sklearn-color-unfitted-level-0: #fff5e6;\n",
       "  --sklearn-color-unfitted-level-1: #f6e4d2;\n",
       "  --sklearn-color-unfitted-level-2: #ffe0b3;\n",
       "  --sklearn-color-unfitted-level-3: chocolate;\n",
       "  /* Definition of color scheme for fitted estimators */\n",
       "  --sklearn-color-fitted-level-0: #f0f8ff;\n",
       "  --sklearn-color-fitted-level-1: #d4ebff;\n",
       "  --sklearn-color-fitted-level-2: #b3dbfd;\n",
       "  --sklearn-color-fitted-level-3: cornflowerblue;\n",
       "\n",
       "  /* Specific color for light theme */\n",
       "  --sklearn-color-text-on-default-background: var(--sg-text-color, var(--theme-code-foreground, var(--jp-content-font-color1, black)));\n",
       "  --sklearn-color-background: var(--sg-background-color, var(--theme-background, var(--jp-layout-color0, white)));\n",
       "  --sklearn-color-border-box: var(--sg-text-color, var(--theme-code-foreground, var(--jp-content-font-color1, black)));\n",
       "  --sklearn-color-icon: #696969;\n",
       "\n",
       "  @media (prefers-color-scheme: dark) {\n",
       "    /* Redefinition of color scheme for dark theme */\n",
       "    --sklearn-color-text-on-default-background: var(--sg-text-color, var(--theme-code-foreground, var(--jp-content-font-color1, white)));\n",
       "    --sklearn-color-background: var(--sg-background-color, var(--theme-background, var(--jp-layout-color0, #111)));\n",
       "    --sklearn-color-border-box: var(--sg-text-color, var(--theme-code-foreground, var(--jp-content-font-color1, white)));\n",
       "    --sklearn-color-icon: #878787;\n",
       "  }\n",
       "}\n",
       "\n",
       "#sk-container-id-1 {\n",
       "  color: var(--sklearn-color-text);\n",
       "}\n",
       "\n",
       "#sk-container-id-1 pre {\n",
       "  padding: 0;\n",
       "}\n",
       "\n",
       "#sk-container-id-1 input.sk-hidden--visually {\n",
       "  border: 0;\n",
       "  clip: rect(1px 1px 1px 1px);\n",
       "  clip: rect(1px, 1px, 1px, 1px);\n",
       "  height: 1px;\n",
       "  margin: -1px;\n",
       "  overflow: hidden;\n",
       "  padding: 0;\n",
       "  position: absolute;\n",
       "  width: 1px;\n",
       "}\n",
       "\n",
       "#sk-container-id-1 div.sk-dashed-wrapped {\n",
       "  border: 1px dashed var(--sklearn-color-line);\n",
       "  margin: 0 0.4em 0.5em 0.4em;\n",
       "  box-sizing: border-box;\n",
       "  padding-bottom: 0.4em;\n",
       "  background-color: var(--sklearn-color-background);\n",
       "}\n",
       "\n",
       "#sk-container-id-1 div.sk-container {\n",
       "  /* jupyter's `normalize.less` sets `[hidden] { display: none; }`\n",
       "     but bootstrap.min.css set `[hidden] { display: none !important; }`\n",
       "     so we also need the `!important` here to be able to override the\n",
       "     default hidden behavior on the sphinx rendered scikit-learn.org.\n",
       "     See: https://github.com/scikit-learn/scikit-learn/issues/21755 */\n",
       "  display: inline-block !important;\n",
       "  position: relative;\n",
       "}\n",
       "\n",
       "#sk-container-id-1 div.sk-text-repr-fallback {\n",
       "  display: none;\n",
       "}\n",
       "\n",
       "div.sk-parallel-item,\n",
       "div.sk-serial,\n",
       "div.sk-item {\n",
       "  /* draw centered vertical line to link estimators */\n",
       "  background-image: linear-gradient(var(--sklearn-color-text-on-default-background), var(--sklearn-color-text-on-default-background));\n",
       "  background-size: 2px 100%;\n",
       "  background-repeat: no-repeat;\n",
       "  background-position: center center;\n",
       "}\n",
       "\n",
       "/* Parallel-specific style estimator block */\n",
       "\n",
       "#sk-container-id-1 div.sk-parallel-item::after {\n",
       "  content: \"\";\n",
       "  width: 100%;\n",
       "  border-bottom: 2px solid var(--sklearn-color-text-on-default-background);\n",
       "  flex-grow: 1;\n",
       "}\n",
       "\n",
       "#sk-container-id-1 div.sk-parallel {\n",
       "  display: flex;\n",
       "  align-items: stretch;\n",
       "  justify-content: center;\n",
       "  background-color: var(--sklearn-color-background);\n",
       "  position: relative;\n",
       "}\n",
       "\n",
       "#sk-container-id-1 div.sk-parallel-item {\n",
       "  display: flex;\n",
       "  flex-direction: column;\n",
       "}\n",
       "\n",
       "#sk-container-id-1 div.sk-parallel-item:first-child::after {\n",
       "  align-self: flex-end;\n",
       "  width: 50%;\n",
       "}\n",
       "\n",
       "#sk-container-id-1 div.sk-parallel-item:last-child::after {\n",
       "  align-self: flex-start;\n",
       "  width: 50%;\n",
       "}\n",
       "\n",
       "#sk-container-id-1 div.sk-parallel-item:only-child::after {\n",
       "  width: 0;\n",
       "}\n",
       "\n",
       "/* Serial-specific style estimator block */\n",
       "\n",
       "#sk-container-id-1 div.sk-serial {\n",
       "  display: flex;\n",
       "  flex-direction: column;\n",
       "  align-items: center;\n",
       "  background-color: var(--sklearn-color-background);\n",
       "  padding-right: 1em;\n",
       "  padding-left: 1em;\n",
       "}\n",
       "\n",
       "\n",
       "/* Toggleable style: style used for estimator/Pipeline/ColumnTransformer box that is\n",
       "clickable and can be expanded/collapsed.\n",
       "- Pipeline and ColumnTransformer use this feature and define the default style\n",
       "- Estimators will overwrite some part of the style using the `sk-estimator` class\n",
       "*/\n",
       "\n",
       "/* Pipeline and ColumnTransformer style (default) */\n",
       "\n",
       "#sk-container-id-1 div.sk-toggleable {\n",
       "  /* Default theme specific background. It is overwritten whether we have a\n",
       "  specific estimator or a Pipeline/ColumnTransformer */\n",
       "  background-color: var(--sklearn-color-background);\n",
       "}\n",
       "\n",
       "/* Toggleable label */\n",
       "#sk-container-id-1 label.sk-toggleable__label {\n",
       "  cursor: pointer;\n",
       "  display: block;\n",
       "  width: 100%;\n",
       "  margin-bottom: 0;\n",
       "  padding: 0.5em;\n",
       "  box-sizing: border-box;\n",
       "  text-align: center;\n",
       "}\n",
       "\n",
       "#sk-container-id-1 label.sk-toggleable__label-arrow:before {\n",
       "  /* Arrow on the left of the label */\n",
       "  content: \"▸\";\n",
       "  float: left;\n",
       "  margin-right: 0.25em;\n",
       "  color: var(--sklearn-color-icon);\n",
       "}\n",
       "\n",
       "#sk-container-id-1 label.sk-toggleable__label-arrow:hover:before {\n",
       "  color: var(--sklearn-color-text);\n",
       "}\n",
       "\n",
       "/* Toggleable content - dropdown */\n",
       "\n",
       "#sk-container-id-1 div.sk-toggleable__content {\n",
       "  max-height: 0;\n",
       "  max-width: 0;\n",
       "  overflow: hidden;\n",
       "  text-align: left;\n",
       "  /* unfitted */\n",
       "  background-color: var(--sklearn-color-unfitted-level-0);\n",
       "}\n",
       "\n",
       "#sk-container-id-1 div.sk-toggleable__content.fitted {\n",
       "  /* fitted */\n",
       "  background-color: var(--sklearn-color-fitted-level-0);\n",
       "}\n",
       "\n",
       "#sk-container-id-1 div.sk-toggleable__content pre {\n",
       "  margin: 0.2em;\n",
       "  border-radius: 0.25em;\n",
       "  color: var(--sklearn-color-text);\n",
       "  /* unfitted */\n",
       "  background-color: var(--sklearn-color-unfitted-level-0);\n",
       "}\n",
       "\n",
       "#sk-container-id-1 div.sk-toggleable__content.fitted pre {\n",
       "  /* unfitted */\n",
       "  background-color: var(--sklearn-color-fitted-level-0);\n",
       "}\n",
       "\n",
       "#sk-container-id-1 input.sk-toggleable__control:checked~div.sk-toggleable__content {\n",
       "  /* Expand drop-down */\n",
       "  max-height: 200px;\n",
       "  max-width: 100%;\n",
       "  overflow: auto;\n",
       "}\n",
       "\n",
       "#sk-container-id-1 input.sk-toggleable__control:checked~label.sk-toggleable__label-arrow:before {\n",
       "  content: \"▾\";\n",
       "}\n",
       "\n",
       "/* Pipeline/ColumnTransformer-specific style */\n",
       "\n",
       "#sk-container-id-1 div.sk-label input.sk-toggleable__control:checked~label.sk-toggleable__label {\n",
       "  color: var(--sklearn-color-text);\n",
       "  background-color: var(--sklearn-color-unfitted-level-2);\n",
       "}\n",
       "\n",
       "#sk-container-id-1 div.sk-label.fitted input.sk-toggleable__control:checked~label.sk-toggleable__label {\n",
       "  background-color: var(--sklearn-color-fitted-level-2);\n",
       "}\n",
       "\n",
       "/* Estimator-specific style */\n",
       "\n",
       "/* Colorize estimator box */\n",
       "#sk-container-id-1 div.sk-estimator input.sk-toggleable__control:checked~label.sk-toggleable__label {\n",
       "  /* unfitted */\n",
       "  background-color: var(--sklearn-color-unfitted-level-2);\n",
       "}\n",
       "\n",
       "#sk-container-id-1 div.sk-estimator.fitted input.sk-toggleable__control:checked~label.sk-toggleable__label {\n",
       "  /* fitted */\n",
       "  background-color: var(--sklearn-color-fitted-level-2);\n",
       "}\n",
       "\n",
       "#sk-container-id-1 div.sk-label label.sk-toggleable__label,\n",
       "#sk-container-id-1 div.sk-label label {\n",
       "  /* The background is the default theme color */\n",
       "  color: var(--sklearn-color-text-on-default-background);\n",
       "}\n",
       "\n",
       "/* On hover, darken the color of the background */\n",
       "#sk-container-id-1 div.sk-label:hover label.sk-toggleable__label {\n",
       "  color: var(--sklearn-color-text);\n",
       "  background-color: var(--sklearn-color-unfitted-level-2);\n",
       "}\n",
       "\n",
       "/* Label box, darken color on hover, fitted */\n",
       "#sk-container-id-1 div.sk-label.fitted:hover label.sk-toggleable__label.fitted {\n",
       "  color: var(--sklearn-color-text);\n",
       "  background-color: var(--sklearn-color-fitted-level-2);\n",
       "}\n",
       "\n",
       "/* Estimator label */\n",
       "\n",
       "#sk-container-id-1 div.sk-label label {\n",
       "  font-family: monospace;\n",
       "  font-weight: bold;\n",
       "  display: inline-block;\n",
       "  line-height: 1.2em;\n",
       "}\n",
       "\n",
       "#sk-container-id-1 div.sk-label-container {\n",
       "  text-align: center;\n",
       "}\n",
       "\n",
       "/* Estimator-specific */\n",
       "#sk-container-id-1 div.sk-estimator {\n",
       "  font-family: monospace;\n",
       "  border: 1px dotted var(--sklearn-color-border-box);\n",
       "  border-radius: 0.25em;\n",
       "  box-sizing: border-box;\n",
       "  margin-bottom: 0.5em;\n",
       "  /* unfitted */\n",
       "  background-color: var(--sklearn-color-unfitted-level-0);\n",
       "}\n",
       "\n",
       "#sk-container-id-1 div.sk-estimator.fitted {\n",
       "  /* fitted */\n",
       "  background-color: var(--sklearn-color-fitted-level-0);\n",
       "}\n",
       "\n",
       "/* on hover */\n",
       "#sk-container-id-1 div.sk-estimator:hover {\n",
       "  /* unfitted */\n",
       "  background-color: var(--sklearn-color-unfitted-level-2);\n",
       "}\n",
       "\n",
       "#sk-container-id-1 div.sk-estimator.fitted:hover {\n",
       "  /* fitted */\n",
       "  background-color: var(--sklearn-color-fitted-level-2);\n",
       "}\n",
       "\n",
       "/* Specification for estimator info (e.g. \"i\" and \"?\") */\n",
       "\n",
       "/* Common style for \"i\" and \"?\" */\n",
       "\n",
       ".sk-estimator-doc-link,\n",
       "a:link.sk-estimator-doc-link,\n",
       "a:visited.sk-estimator-doc-link {\n",
       "  float: right;\n",
       "  font-size: smaller;\n",
       "  line-height: 1em;\n",
       "  font-family: monospace;\n",
       "  background-color: var(--sklearn-color-background);\n",
       "  border-radius: 1em;\n",
       "  height: 1em;\n",
       "  width: 1em;\n",
       "  text-decoration: none !important;\n",
       "  margin-left: 1ex;\n",
       "  /* unfitted */\n",
       "  border: var(--sklearn-color-unfitted-level-1) 1pt solid;\n",
       "  color: var(--sklearn-color-unfitted-level-1);\n",
       "}\n",
       "\n",
       ".sk-estimator-doc-link.fitted,\n",
       "a:link.sk-estimator-doc-link.fitted,\n",
       "a:visited.sk-estimator-doc-link.fitted {\n",
       "  /* fitted */\n",
       "  border: var(--sklearn-color-fitted-level-1) 1pt solid;\n",
       "  color: var(--sklearn-color-fitted-level-1);\n",
       "}\n",
       "\n",
       "/* On hover */\n",
       "div.sk-estimator:hover .sk-estimator-doc-link:hover,\n",
       ".sk-estimator-doc-link:hover,\n",
       "div.sk-label-container:hover .sk-estimator-doc-link:hover,\n",
       ".sk-estimator-doc-link:hover {\n",
       "  /* unfitted */\n",
       "  background-color: var(--sklearn-color-unfitted-level-3);\n",
       "  color: var(--sklearn-color-background);\n",
       "  text-decoration: none;\n",
       "}\n",
       "\n",
       "div.sk-estimator.fitted:hover .sk-estimator-doc-link.fitted:hover,\n",
       ".sk-estimator-doc-link.fitted:hover,\n",
       "div.sk-label-container:hover .sk-estimator-doc-link.fitted:hover,\n",
       ".sk-estimator-doc-link.fitted:hover {\n",
       "  /* fitted */\n",
       "  background-color: var(--sklearn-color-fitted-level-3);\n",
       "  color: var(--sklearn-color-background);\n",
       "  text-decoration: none;\n",
       "}\n",
       "\n",
       "/* Span, style for the box shown on hovering the info icon */\n",
       ".sk-estimator-doc-link span {\n",
       "  display: none;\n",
       "  z-index: 9999;\n",
       "  position: relative;\n",
       "  font-weight: normal;\n",
       "  right: .2ex;\n",
       "  padding: .5ex;\n",
       "  margin: .5ex;\n",
       "  width: min-content;\n",
       "  min-width: 20ex;\n",
       "  max-width: 50ex;\n",
       "  color: var(--sklearn-color-text);\n",
       "  box-shadow: 2pt 2pt 4pt #999;\n",
       "  /* unfitted */\n",
       "  background: var(--sklearn-color-unfitted-level-0);\n",
       "  border: .5pt solid var(--sklearn-color-unfitted-level-3);\n",
       "}\n",
       "\n",
       ".sk-estimator-doc-link.fitted span {\n",
       "  /* fitted */\n",
       "  background: var(--sklearn-color-fitted-level-0);\n",
       "  border: var(--sklearn-color-fitted-level-3);\n",
       "}\n",
       "\n",
       ".sk-estimator-doc-link:hover span {\n",
       "  display: block;\n",
       "}\n",
       "\n",
       "/* \"?\"-specific style due to the `<a>` HTML tag */\n",
       "\n",
       "#sk-container-id-1 a.estimator_doc_link {\n",
       "  float: right;\n",
       "  font-size: 1rem;\n",
       "  line-height: 1em;\n",
       "  font-family: monospace;\n",
       "  background-color: var(--sklearn-color-background);\n",
       "  border-radius: 1rem;\n",
       "  height: 1rem;\n",
       "  width: 1rem;\n",
       "  text-decoration: none;\n",
       "  /* unfitted */\n",
       "  color: var(--sklearn-color-unfitted-level-1);\n",
       "  border: var(--sklearn-color-unfitted-level-1) 1pt solid;\n",
       "}\n",
       "\n",
       "#sk-container-id-1 a.estimator_doc_link.fitted {\n",
       "  /* fitted */\n",
       "  border: var(--sklearn-color-fitted-level-1) 1pt solid;\n",
       "  color: var(--sklearn-color-fitted-level-1);\n",
       "}\n",
       "\n",
       "/* On hover */\n",
       "#sk-container-id-1 a.estimator_doc_link:hover {\n",
       "  /* unfitted */\n",
       "  background-color: var(--sklearn-color-unfitted-level-3);\n",
       "  color: var(--sklearn-color-background);\n",
       "  text-decoration: none;\n",
       "}\n",
       "\n",
       "#sk-container-id-1 a.estimator_doc_link.fitted:hover {\n",
       "  /* fitted */\n",
       "  background-color: var(--sklearn-color-fitted-level-3);\n",
       "}\n",
       "</style><div id=\"sk-container-id-1\" class=\"sk-top-container\"><div class=\"sk-text-repr-fallback\"><pre>DecisionTreeClassifier(random_state=42)</pre><b>In a Jupyter environment, please rerun this cell to show the HTML representation or trust the notebook. <br />On GitHub, the HTML representation is unable to render, please try loading this page with nbviewer.org.</b></div><div class=\"sk-container\" hidden><div class=\"sk-item\"><div class=\"sk-estimator fitted sk-toggleable\"><input class=\"sk-toggleable__control sk-hidden--visually\" id=\"sk-estimator-id-1\" type=\"checkbox\" checked><label for=\"sk-estimator-id-1\" class=\"sk-toggleable__label fitted sk-toggleable__label-arrow fitted\">&nbsp;&nbsp;DecisionTreeClassifier<a class=\"sk-estimator-doc-link fitted\" rel=\"noreferrer\" target=\"_blank\" href=\"https://scikit-learn.org/1.5/modules/generated/sklearn.tree.DecisionTreeClassifier.html\">?<span>Documentation for DecisionTreeClassifier</span></a><span class=\"sk-estimator-doc-link fitted\">i<span>Fitted</span></span></label><div class=\"sk-toggleable__content fitted\"><pre>DecisionTreeClassifier(random_state=42)</pre></div> </div></div></div></div>"
      ],
      "text/plain": [
       "DecisionTreeClassifier(random_state=42)"
      ]
     },
     "execution_count": 37,
     "metadata": {},
     "output_type": "execute_result"
    }
   ],
   "source": [
    "# Train model\n",
    "from sklearn.tree import DecisionTreeClassifier\n",
    "\n",
    "model = DecisionTreeClassifier(random_state=42)\n",
    "model.fit(X_train, y_train)\n"
   ]
  },
  {
   "cell_type": "markdown",
   "id": "22534ffa-599e-4ddd-94de-1b49dc01277c",
   "metadata": {},
   "source": [
    "### 8. Evaluation"
   ]
  },
  {
   "cell_type": "code",
   "execution_count": 38,
   "id": "0d6f02a2-12ea-4335-b37b-5621bfc57daa",
   "metadata": {},
   "outputs": [],
   "source": [
    "from sklearn.metrics import classification_report, confusion_matrix\n",
    "\n",
    "y_pred = model.predict(X_test)"
   ]
  },
  {
   "cell_type": "code",
   "execution_count": 39,
   "id": "08b68167-3725-4e6d-a6d5-6d61fa5bc924",
   "metadata": {},
   "outputs": [
    {
     "name": "stdout",
     "output_type": "stream",
     "text": [
      "[[188444  10725]\n",
      " [  8028   2442]]\n",
      "              precision    recall  f1-score   support\n",
      "\n",
      "           0       0.96      0.95      0.95    199169\n",
      "           1       0.19      0.23      0.21     10470\n",
      "\n",
      "    accuracy                           0.91    209639\n",
      "   macro avg       0.57      0.59      0.58    209639\n",
      "weighted avg       0.92      0.91      0.92    209639\n",
      "\n"
     ]
    }
   ],
   "source": [
    "print(confusion_matrix(y_test, y_pred))\n",
    "print(classification_report(y_test, y_pred))"
   ]
  },
  {
   "cell_type": "code",
   "execution_count": 40,
   "id": "34ba942d-30ae-40ca-b2d6-1dac0ab25e9f",
   "metadata": {},
   "outputs": [
    {
     "data": {
      "text/plain": [
       "Is Fraudulent\n",
       "0    995691\n",
       "1     52502\n",
       "Name: count, dtype: int64"
      ]
     },
     "execution_count": 40,
     "metadata": {},
     "output_type": "execute_result"
    }
   ],
   "source": [
    "y.value_counts() # Check Class Imbalance"
   ]
  },
  {
   "cell_type": "code",
   "execution_count": 41,
   "id": "3563fa74-ffa3-4113-bc67-8654715e82dd",
   "metadata": {},
   "outputs": [
    {
     "data": {
      "text/html": [
       "<style>#sk-container-id-2 {\n",
       "  /* Definition of color scheme common for light and dark mode */\n",
       "  --sklearn-color-text: black;\n",
       "  --sklearn-color-line: gray;\n",
       "  /* Definition of color scheme for unfitted estimators */\n",
       "  --sklearn-color-unfitted-level-0: #fff5e6;\n",
       "  --sklearn-color-unfitted-level-1: #f6e4d2;\n",
       "  --sklearn-color-unfitted-level-2: #ffe0b3;\n",
       "  --sklearn-color-unfitted-level-3: chocolate;\n",
       "  /* Definition of color scheme for fitted estimators */\n",
       "  --sklearn-color-fitted-level-0: #f0f8ff;\n",
       "  --sklearn-color-fitted-level-1: #d4ebff;\n",
       "  --sklearn-color-fitted-level-2: #b3dbfd;\n",
       "  --sklearn-color-fitted-level-3: cornflowerblue;\n",
       "\n",
       "  /* Specific color for light theme */\n",
       "  --sklearn-color-text-on-default-background: var(--sg-text-color, var(--theme-code-foreground, var(--jp-content-font-color1, black)));\n",
       "  --sklearn-color-background: var(--sg-background-color, var(--theme-background, var(--jp-layout-color0, white)));\n",
       "  --sklearn-color-border-box: var(--sg-text-color, var(--theme-code-foreground, var(--jp-content-font-color1, black)));\n",
       "  --sklearn-color-icon: #696969;\n",
       "\n",
       "  @media (prefers-color-scheme: dark) {\n",
       "    /* Redefinition of color scheme for dark theme */\n",
       "    --sklearn-color-text-on-default-background: var(--sg-text-color, var(--theme-code-foreground, var(--jp-content-font-color1, white)));\n",
       "    --sklearn-color-background: var(--sg-background-color, var(--theme-background, var(--jp-layout-color0, #111)));\n",
       "    --sklearn-color-border-box: var(--sg-text-color, var(--theme-code-foreground, var(--jp-content-font-color1, white)));\n",
       "    --sklearn-color-icon: #878787;\n",
       "  }\n",
       "}\n",
       "\n",
       "#sk-container-id-2 {\n",
       "  color: var(--sklearn-color-text);\n",
       "}\n",
       "\n",
       "#sk-container-id-2 pre {\n",
       "  padding: 0;\n",
       "}\n",
       "\n",
       "#sk-container-id-2 input.sk-hidden--visually {\n",
       "  border: 0;\n",
       "  clip: rect(1px 1px 1px 1px);\n",
       "  clip: rect(1px, 1px, 1px, 1px);\n",
       "  height: 1px;\n",
       "  margin: -1px;\n",
       "  overflow: hidden;\n",
       "  padding: 0;\n",
       "  position: absolute;\n",
       "  width: 1px;\n",
       "}\n",
       "\n",
       "#sk-container-id-2 div.sk-dashed-wrapped {\n",
       "  border: 1px dashed var(--sklearn-color-line);\n",
       "  margin: 0 0.4em 0.5em 0.4em;\n",
       "  box-sizing: border-box;\n",
       "  padding-bottom: 0.4em;\n",
       "  background-color: var(--sklearn-color-background);\n",
       "}\n",
       "\n",
       "#sk-container-id-2 div.sk-container {\n",
       "  /* jupyter's `normalize.less` sets `[hidden] { display: none; }`\n",
       "     but bootstrap.min.css set `[hidden] { display: none !important; }`\n",
       "     so we also need the `!important` here to be able to override the\n",
       "     default hidden behavior on the sphinx rendered scikit-learn.org.\n",
       "     See: https://github.com/scikit-learn/scikit-learn/issues/21755 */\n",
       "  display: inline-block !important;\n",
       "  position: relative;\n",
       "}\n",
       "\n",
       "#sk-container-id-2 div.sk-text-repr-fallback {\n",
       "  display: none;\n",
       "}\n",
       "\n",
       "div.sk-parallel-item,\n",
       "div.sk-serial,\n",
       "div.sk-item {\n",
       "  /* draw centered vertical line to link estimators */\n",
       "  background-image: linear-gradient(var(--sklearn-color-text-on-default-background), var(--sklearn-color-text-on-default-background));\n",
       "  background-size: 2px 100%;\n",
       "  background-repeat: no-repeat;\n",
       "  background-position: center center;\n",
       "}\n",
       "\n",
       "/* Parallel-specific style estimator block */\n",
       "\n",
       "#sk-container-id-2 div.sk-parallel-item::after {\n",
       "  content: \"\";\n",
       "  width: 100%;\n",
       "  border-bottom: 2px solid var(--sklearn-color-text-on-default-background);\n",
       "  flex-grow: 1;\n",
       "}\n",
       "\n",
       "#sk-container-id-2 div.sk-parallel {\n",
       "  display: flex;\n",
       "  align-items: stretch;\n",
       "  justify-content: center;\n",
       "  background-color: var(--sklearn-color-background);\n",
       "  position: relative;\n",
       "}\n",
       "\n",
       "#sk-container-id-2 div.sk-parallel-item {\n",
       "  display: flex;\n",
       "  flex-direction: column;\n",
       "}\n",
       "\n",
       "#sk-container-id-2 div.sk-parallel-item:first-child::after {\n",
       "  align-self: flex-end;\n",
       "  width: 50%;\n",
       "}\n",
       "\n",
       "#sk-container-id-2 div.sk-parallel-item:last-child::after {\n",
       "  align-self: flex-start;\n",
       "  width: 50%;\n",
       "}\n",
       "\n",
       "#sk-container-id-2 div.sk-parallel-item:only-child::after {\n",
       "  width: 0;\n",
       "}\n",
       "\n",
       "/* Serial-specific style estimator block */\n",
       "\n",
       "#sk-container-id-2 div.sk-serial {\n",
       "  display: flex;\n",
       "  flex-direction: column;\n",
       "  align-items: center;\n",
       "  background-color: var(--sklearn-color-background);\n",
       "  padding-right: 1em;\n",
       "  padding-left: 1em;\n",
       "}\n",
       "\n",
       "\n",
       "/* Toggleable style: style used for estimator/Pipeline/ColumnTransformer box that is\n",
       "clickable and can be expanded/collapsed.\n",
       "- Pipeline and ColumnTransformer use this feature and define the default style\n",
       "- Estimators will overwrite some part of the style using the `sk-estimator` class\n",
       "*/\n",
       "\n",
       "/* Pipeline and ColumnTransformer style (default) */\n",
       "\n",
       "#sk-container-id-2 div.sk-toggleable {\n",
       "  /* Default theme specific background. It is overwritten whether we have a\n",
       "  specific estimator or a Pipeline/ColumnTransformer */\n",
       "  background-color: var(--sklearn-color-background);\n",
       "}\n",
       "\n",
       "/* Toggleable label */\n",
       "#sk-container-id-2 label.sk-toggleable__label {\n",
       "  cursor: pointer;\n",
       "  display: block;\n",
       "  width: 100%;\n",
       "  margin-bottom: 0;\n",
       "  padding: 0.5em;\n",
       "  box-sizing: border-box;\n",
       "  text-align: center;\n",
       "}\n",
       "\n",
       "#sk-container-id-2 label.sk-toggleable__label-arrow:before {\n",
       "  /* Arrow on the left of the label */\n",
       "  content: \"▸\";\n",
       "  float: left;\n",
       "  margin-right: 0.25em;\n",
       "  color: var(--sklearn-color-icon);\n",
       "}\n",
       "\n",
       "#sk-container-id-2 label.sk-toggleable__label-arrow:hover:before {\n",
       "  color: var(--sklearn-color-text);\n",
       "}\n",
       "\n",
       "/* Toggleable content - dropdown */\n",
       "\n",
       "#sk-container-id-2 div.sk-toggleable__content {\n",
       "  max-height: 0;\n",
       "  max-width: 0;\n",
       "  overflow: hidden;\n",
       "  text-align: left;\n",
       "  /* unfitted */\n",
       "  background-color: var(--sklearn-color-unfitted-level-0);\n",
       "}\n",
       "\n",
       "#sk-container-id-2 div.sk-toggleable__content.fitted {\n",
       "  /* fitted */\n",
       "  background-color: var(--sklearn-color-fitted-level-0);\n",
       "}\n",
       "\n",
       "#sk-container-id-2 div.sk-toggleable__content pre {\n",
       "  margin: 0.2em;\n",
       "  border-radius: 0.25em;\n",
       "  color: var(--sklearn-color-text);\n",
       "  /* unfitted */\n",
       "  background-color: var(--sklearn-color-unfitted-level-0);\n",
       "}\n",
       "\n",
       "#sk-container-id-2 div.sk-toggleable__content.fitted pre {\n",
       "  /* unfitted */\n",
       "  background-color: var(--sklearn-color-fitted-level-0);\n",
       "}\n",
       "\n",
       "#sk-container-id-2 input.sk-toggleable__control:checked~div.sk-toggleable__content {\n",
       "  /* Expand drop-down */\n",
       "  max-height: 200px;\n",
       "  max-width: 100%;\n",
       "  overflow: auto;\n",
       "}\n",
       "\n",
       "#sk-container-id-2 input.sk-toggleable__control:checked~label.sk-toggleable__label-arrow:before {\n",
       "  content: \"▾\";\n",
       "}\n",
       "\n",
       "/* Pipeline/ColumnTransformer-specific style */\n",
       "\n",
       "#sk-container-id-2 div.sk-label input.sk-toggleable__control:checked~label.sk-toggleable__label {\n",
       "  color: var(--sklearn-color-text);\n",
       "  background-color: var(--sklearn-color-unfitted-level-2);\n",
       "}\n",
       "\n",
       "#sk-container-id-2 div.sk-label.fitted input.sk-toggleable__control:checked~label.sk-toggleable__label {\n",
       "  background-color: var(--sklearn-color-fitted-level-2);\n",
       "}\n",
       "\n",
       "/* Estimator-specific style */\n",
       "\n",
       "/* Colorize estimator box */\n",
       "#sk-container-id-2 div.sk-estimator input.sk-toggleable__control:checked~label.sk-toggleable__label {\n",
       "  /* unfitted */\n",
       "  background-color: var(--sklearn-color-unfitted-level-2);\n",
       "}\n",
       "\n",
       "#sk-container-id-2 div.sk-estimator.fitted input.sk-toggleable__control:checked~label.sk-toggleable__label {\n",
       "  /* fitted */\n",
       "  background-color: var(--sklearn-color-fitted-level-2);\n",
       "}\n",
       "\n",
       "#sk-container-id-2 div.sk-label label.sk-toggleable__label,\n",
       "#sk-container-id-2 div.sk-label label {\n",
       "  /* The background is the default theme color */\n",
       "  color: var(--sklearn-color-text-on-default-background);\n",
       "}\n",
       "\n",
       "/* On hover, darken the color of the background */\n",
       "#sk-container-id-2 div.sk-label:hover label.sk-toggleable__label {\n",
       "  color: var(--sklearn-color-text);\n",
       "  background-color: var(--sklearn-color-unfitted-level-2);\n",
       "}\n",
       "\n",
       "/* Label box, darken color on hover, fitted */\n",
       "#sk-container-id-2 div.sk-label.fitted:hover label.sk-toggleable__label.fitted {\n",
       "  color: var(--sklearn-color-text);\n",
       "  background-color: var(--sklearn-color-fitted-level-2);\n",
       "}\n",
       "\n",
       "/* Estimator label */\n",
       "\n",
       "#sk-container-id-2 div.sk-label label {\n",
       "  font-family: monospace;\n",
       "  font-weight: bold;\n",
       "  display: inline-block;\n",
       "  line-height: 1.2em;\n",
       "}\n",
       "\n",
       "#sk-container-id-2 div.sk-label-container {\n",
       "  text-align: center;\n",
       "}\n",
       "\n",
       "/* Estimator-specific */\n",
       "#sk-container-id-2 div.sk-estimator {\n",
       "  font-family: monospace;\n",
       "  border: 1px dotted var(--sklearn-color-border-box);\n",
       "  border-radius: 0.25em;\n",
       "  box-sizing: border-box;\n",
       "  margin-bottom: 0.5em;\n",
       "  /* unfitted */\n",
       "  background-color: var(--sklearn-color-unfitted-level-0);\n",
       "}\n",
       "\n",
       "#sk-container-id-2 div.sk-estimator.fitted {\n",
       "  /* fitted */\n",
       "  background-color: var(--sklearn-color-fitted-level-0);\n",
       "}\n",
       "\n",
       "/* on hover */\n",
       "#sk-container-id-2 div.sk-estimator:hover {\n",
       "  /* unfitted */\n",
       "  background-color: var(--sklearn-color-unfitted-level-2);\n",
       "}\n",
       "\n",
       "#sk-container-id-2 div.sk-estimator.fitted:hover {\n",
       "  /* fitted */\n",
       "  background-color: var(--sklearn-color-fitted-level-2);\n",
       "}\n",
       "\n",
       "/* Specification for estimator info (e.g. \"i\" and \"?\") */\n",
       "\n",
       "/* Common style for \"i\" and \"?\" */\n",
       "\n",
       ".sk-estimator-doc-link,\n",
       "a:link.sk-estimator-doc-link,\n",
       "a:visited.sk-estimator-doc-link {\n",
       "  float: right;\n",
       "  font-size: smaller;\n",
       "  line-height: 1em;\n",
       "  font-family: monospace;\n",
       "  background-color: var(--sklearn-color-background);\n",
       "  border-radius: 1em;\n",
       "  height: 1em;\n",
       "  width: 1em;\n",
       "  text-decoration: none !important;\n",
       "  margin-left: 1ex;\n",
       "  /* unfitted */\n",
       "  border: var(--sklearn-color-unfitted-level-1) 1pt solid;\n",
       "  color: var(--sklearn-color-unfitted-level-1);\n",
       "}\n",
       "\n",
       ".sk-estimator-doc-link.fitted,\n",
       "a:link.sk-estimator-doc-link.fitted,\n",
       "a:visited.sk-estimator-doc-link.fitted {\n",
       "  /* fitted */\n",
       "  border: var(--sklearn-color-fitted-level-1) 1pt solid;\n",
       "  color: var(--sklearn-color-fitted-level-1);\n",
       "}\n",
       "\n",
       "/* On hover */\n",
       "div.sk-estimator:hover .sk-estimator-doc-link:hover,\n",
       ".sk-estimator-doc-link:hover,\n",
       "div.sk-label-container:hover .sk-estimator-doc-link:hover,\n",
       ".sk-estimator-doc-link:hover {\n",
       "  /* unfitted */\n",
       "  background-color: var(--sklearn-color-unfitted-level-3);\n",
       "  color: var(--sklearn-color-background);\n",
       "  text-decoration: none;\n",
       "}\n",
       "\n",
       "div.sk-estimator.fitted:hover .sk-estimator-doc-link.fitted:hover,\n",
       ".sk-estimator-doc-link.fitted:hover,\n",
       "div.sk-label-container:hover .sk-estimator-doc-link.fitted:hover,\n",
       ".sk-estimator-doc-link.fitted:hover {\n",
       "  /* fitted */\n",
       "  background-color: var(--sklearn-color-fitted-level-3);\n",
       "  color: var(--sklearn-color-background);\n",
       "  text-decoration: none;\n",
       "}\n",
       "\n",
       "/* Span, style for the box shown on hovering the info icon */\n",
       ".sk-estimator-doc-link span {\n",
       "  display: none;\n",
       "  z-index: 9999;\n",
       "  position: relative;\n",
       "  font-weight: normal;\n",
       "  right: .2ex;\n",
       "  padding: .5ex;\n",
       "  margin: .5ex;\n",
       "  width: min-content;\n",
       "  min-width: 20ex;\n",
       "  max-width: 50ex;\n",
       "  color: var(--sklearn-color-text);\n",
       "  box-shadow: 2pt 2pt 4pt #999;\n",
       "  /* unfitted */\n",
       "  background: var(--sklearn-color-unfitted-level-0);\n",
       "  border: .5pt solid var(--sklearn-color-unfitted-level-3);\n",
       "}\n",
       "\n",
       ".sk-estimator-doc-link.fitted span {\n",
       "  /* fitted */\n",
       "  background: var(--sklearn-color-fitted-level-0);\n",
       "  border: var(--sklearn-color-fitted-level-3);\n",
       "}\n",
       "\n",
       ".sk-estimator-doc-link:hover span {\n",
       "  display: block;\n",
       "}\n",
       "\n",
       "/* \"?\"-specific style due to the `<a>` HTML tag */\n",
       "\n",
       "#sk-container-id-2 a.estimator_doc_link {\n",
       "  float: right;\n",
       "  font-size: 1rem;\n",
       "  line-height: 1em;\n",
       "  font-family: monospace;\n",
       "  background-color: var(--sklearn-color-background);\n",
       "  border-radius: 1rem;\n",
       "  height: 1rem;\n",
       "  width: 1rem;\n",
       "  text-decoration: none;\n",
       "  /* unfitted */\n",
       "  color: var(--sklearn-color-unfitted-level-1);\n",
       "  border: var(--sklearn-color-unfitted-level-1) 1pt solid;\n",
       "}\n",
       "\n",
       "#sk-container-id-2 a.estimator_doc_link.fitted {\n",
       "  /* fitted */\n",
       "  border: var(--sklearn-color-fitted-level-1) 1pt solid;\n",
       "  color: var(--sklearn-color-fitted-level-1);\n",
       "}\n",
       "\n",
       "/* On hover */\n",
       "#sk-container-id-2 a.estimator_doc_link:hover {\n",
       "  /* unfitted */\n",
       "  background-color: var(--sklearn-color-unfitted-level-3);\n",
       "  color: var(--sklearn-color-background);\n",
       "  text-decoration: none;\n",
       "}\n",
       "\n",
       "#sk-container-id-2 a.estimator_doc_link.fitted:hover {\n",
       "  /* fitted */\n",
       "  background-color: var(--sklearn-color-fitted-level-3);\n",
       "}\n",
       "</style><div id=\"sk-container-id-2\" class=\"sk-top-container\"><div class=\"sk-text-repr-fallback\"><pre>DecisionTreeClassifier(class_weight=&#x27;balanced&#x27;, random_state=42)</pre><b>In a Jupyter environment, please rerun this cell to show the HTML representation or trust the notebook. <br />On GitHub, the HTML representation is unable to render, please try loading this page with nbviewer.org.</b></div><div class=\"sk-container\" hidden><div class=\"sk-item\"><div class=\"sk-estimator fitted sk-toggleable\"><input class=\"sk-toggleable__control sk-hidden--visually\" id=\"sk-estimator-id-2\" type=\"checkbox\" checked><label for=\"sk-estimator-id-2\" class=\"sk-toggleable__label fitted sk-toggleable__label-arrow fitted\">&nbsp;&nbsp;DecisionTreeClassifier<a class=\"sk-estimator-doc-link fitted\" rel=\"noreferrer\" target=\"_blank\" href=\"https://scikit-learn.org/1.5/modules/generated/sklearn.tree.DecisionTreeClassifier.html\">?<span>Documentation for DecisionTreeClassifier</span></a><span class=\"sk-estimator-doc-link fitted\">i<span>Fitted</span></span></label><div class=\"sk-toggleable__content fitted\"><pre>DecisionTreeClassifier(class_weight=&#x27;balanced&#x27;, random_state=42)</pre></div> </div></div></div></div>"
      ],
      "text/plain": [
       "DecisionTreeClassifier(class_weight='balanced', random_state=42)"
      ]
     },
     "execution_count": 41,
     "metadata": {},
     "output_type": "execute_result"
    }
   ],
   "source": [
    "# Improved model with class weights\n",
    "\n",
    "model = DecisionTreeClassifier(class_weight='balanced', random_state=42)\n",
    "model.fit(X_train, y_train)"
   ]
  },
  {
   "cell_type": "code",
   "execution_count": 42,
   "id": "f41e643a-d175-44c1-a9e1-3976f9e474d5",
   "metadata": {},
   "outputs": [
    {
     "name": "stdout",
     "output_type": "stream",
     "text": [
      "              precision    recall  f1-score   support\n",
      "\n",
      "           0       0.96      0.96      0.96    199169\n",
      "           1       0.20      0.20      0.20     10470\n",
      "\n",
      "    accuracy                           0.92    209639\n",
      "   macro avg       0.58      0.58      0.58    209639\n",
      "weighted avg       0.92      0.92      0.92    209639\n",
      "\n"
     ]
    }
   ],
   "source": [
    "y_pred = model.predict(X_test)\n",
    "print(classification_report(y_test, y_pred))"
   ]
  },
  {
   "cell_type": "markdown",
   "id": "630dc58b-f244-4d03-bc8a-5dfbf43075e4",
   "metadata": {},
   "source": [
    "### Insight\n",
    "Initially, my model performed well only on non-fraud cases, but struggled with fraud detection due to class imbalance (only 5% fraud). I applied class weighting, which slightly improved fraud detection while keeping overall performance stable."
   ]
  },
  {
   "cell_type": "code",
   "execution_count": 43,
   "id": "4f086acf-e2e3-4bfa-944c-528c452d8e2e",
   "metadata": {},
   "outputs": [
    {
     "data": {
      "image/png": "[encoded data removed]",
      "text/plain": [
       "<Figure size 500x400 with 2 Axes>"
      ]
     },
     "metadata": {},
     "output_type": "display_data"
    }
   ],
   "source": [
    "# Confusion Matrix\n",
    "\n",
    "from sklearn.metrics import confusion_matrix\n",
    "\n",
    "cm = confusion_matrix(y_test, y_pred)\n",
    "plt.figure(figsize=(5,4))\n",
    "sns.heatmap(cm, annot=True, fmt='d', cmap='Blues')\n",
    "plt.title(\"Confusion Matrix\")\n",
    "plt.xlabel(\"Predicted\")\n",
    "plt.ylabel(\"Actual\")\n",
    "plt.tight_layout()\n",
    "plt.show()\n"
   ]
  },
  {
   "cell_type": "markdown",
   "id": "8b89df05-dfb7-4b41-b103-ede36d18dddf",
   "metadata": {},
   "source": [
    "## Insight:\n",
    "### Balanced class model improves recall of fraud class (1), which is important in fraud detection."
   ]
  },
  {
   "cell_type": "code",
   "execution_count": 44,
   "id": "64a439cc-9d38-4487-8697-d2a7909b9988",
   "metadata": {},
   "outputs": [
    {
     "data": {
      "image/png": "[encoded data removed]",
      "text/plain": [
       "<Figure size 800x500 with 1 Axes>"
      ]
     },
     "metadata": {},
     "output_type": "display_data"
    }
   ],
   "source": [
    "# Feature importance\n",
    "feature_importance = pd.Series(model.feature_importances_, index=X.columns)\n",
    "\n",
    "# Top 10 most important features\n",
    "plt.figure(figsize=(8,5))\n",
    "feature_importance.nlargest(10).plot(kind='barh', color='pink')\n",
    "plt.title(\"Top 10 Important Features for Fraud Detection\")\n",
    "plt.xlabel(\"Importance Score\")\n",
    "plt.gca().invert_yaxis()  # highest feature\n",
    "plt.tight_layout()\n",
    "plt.show()\n"
   ]
  },
  {
   "cell_type": "markdown",
   "id": "bce0e646-a0b0-48a5-a9ba-4f9e4715a872",
   "metadata": {},
   "source": [
    "## Insight:\n",
    "### Features like 'Account Age Days', 'Transaction Amount', and 'Customer Age' are key fraud indicators."
   ]
  },
  {
   "cell_type": "markdown",
   "id": "b14885a2-86a4-4b39-8d97-78661e7c04ca",
   "metadata": {},
   "source": [
    "# 9. Conclusion\n",
    "# ---------------------------------------------\n",
    "- This project involved end-to-end fraud detection: starting from raw data cleaning,\n",
    "- feature engineering, visual EDA, and building a predictive model.\n",
    "- The insights can help businesses identify fraud-prone areas, customers, and payment methods\n",
    "- to take preventive actions."
   ]
  },
  {
   "cell_type": "code",
   "execution_count": null,
   "id": "5d1514f6-9d86-4e0b-80d1-b0b98462010e",
   "metadata": {},
   "outputs": [],
   "source": []
  }
 ],
 "metadata": {
  "kernelspec": {
   "display_name": "Python [conda env:base] *",
   "language": "python",
   "name": "conda-base-py"
  },
  "language_info": {
   "codemirror_mode": {
    "name": "ipython",
    "version": 3
   },
   "file_extension": ".py",
   "mimetype": "text/x-python",
   "name": "python",
   "nbconvert_exporter": "python",
   "pygments_lexer": "ipython3",
   "version": "3.12.11"
  }
 },
 "nbformat": 4,
 "nbformat_minor": 5
}
